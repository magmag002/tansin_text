{
 "cells": [
  {
   "cell_type": "code",
   "execution_count": 3,
   "id": "0908b69c",
   "metadata": {},
   "outputs": [],
   "source": [
    "import numpy as np\n",
    "import pandas as pd\n",
    "import matplotlib.pylab as plt\n",
    "import math\n",
    "import csv\n",
    "import tqdm\n",
    "#選択行削除\n",
    "import re\n",
    "from xml.sax.saxutils import unescape\n",
    "import pickle\n",
    "import os"
   ]
  },
  {
   "cell_type": "code",
   "execution_count": 4,
   "id": "a906fef8",
   "metadata": {},
   "outputs": [],
   "source": [
    "#企業リストを取得\n",
    "company_list = pd.read_csv(\"../data/new2/df_achieve/company_list.csv\",index_col=0)\n",
    "company_list=company_list.drop(14350)"
   ]
  },
  {
   "cell_type": "code",
   "execution_count": null,
   "id": "263e10eb",
   "metadata": {},
   "outputs": [],
   "source": []
  },
  {
   "cell_type": "markdown",
   "id": "4d573eb1",
   "metadata": {},
   "source": [
    "# 目次作成"
   ]
  },
  {
   "cell_type": "code",
   "execution_count": 5,
   "id": "eb0ac4a1",
   "metadata": {},
   "outputs": [],
   "source": [
    "import subprocess\n",
    "import zenhan\n",
    "import os\n",
    "import sys\n",
    "import re\n",
    "import unicodedata\n",
    "import argparse\n",
    "def create_mokuzi(out,file):\n",
    "\n",
    "    with open(out,'w') as out:\n",
    "        mat_eol = re.compile(\"\\n\".encode('utf-8'))\n",
    "        mokuzi_text=[]\n",
    "        mokuzi_flag=False\n",
    "        p = subprocess.run(('pdftotext', file, '-'), stdout = subprocess.PIPE, stderr = subprocess.PIPE)\n",
    "        \n",
    "        for line in mat_eol.split(p.stdout):\n",
    "            try:\n",
    "                line = line.decode('utf-8')\n",
    "                #print(line)\n",
    "                #print(mokuzi_flag)\n",
    "                #print(\"-----------------------\")\n",
    "            except:\n",
    "                line = \"\"\n",
    "            \n",
    "            #目次がある場合は，それを取得する------\n",
    "            if \"目次\" in line and mokuzi_text==[]:\n",
    "                #mokuzi_text.append(line)\n",
    "                mokuzi_flag=True\n",
    "            if mokuzi_flag:\n",
    "                #if line==\"1\" or line==\"- 1 -\" or line==\"― 1 ―\": #:and len(mokuzi_text)>6:\n",
    "                if '決算短信' in line or len(mokuzi_text)>80:\n",
    "                    mokuzi_flag=False\n",
    "                    break\n",
    "                else:\n",
    "                    mokuzi_text.append(line)\n",
    "            #---------------------------------------------\n",
    "        for sentence in mokuzi_text:\n",
    "            out.write(sentence+\"\\n\")"
   ]
  },
  {
   "cell_type": "code",
   "execution_count": 6,
   "id": "99e40ccd",
   "metadata": {},
   "outputs": [],
   "source": [
    "def normalize(sentence):\n",
    "    sentense = unicodedata.normalize('NFKC' , sentence)\n",
    "    sentence = zenhan.h2z(sentense)\n",
    "    sentence = sentence.replace(u' ', u'').replace(u'　', u'' )\n",
    "    sentence = re.sub(\"①\\n\\n\",\"1\",sentence)\n",
    "    #sentence = sentence.replace(u'\\n', u'')\n",
    "    return re.sub(\"\\s*\", u'', sentence)"
   ]
  },
  {
   "cell_type": "code",
   "execution_count": 21,
   "id": "0c80dcee",
   "metadata": {},
   "outputs": [
    {
     "name": "stderr",
     "output_type": "stream",
     "text": [
      "100%|███████████████████████████████████████| 2512/2512 [57:36<00:00,  1.38s/it]\n"
     ]
    }
   ],
   "source": [
    "for company in tqdm.tqdm(company_list.index):\n",
    "    df_path = '../data/new2/df_achieve/this/{}.csv'.format(company)\n",
    "    df = pd.read_csv(df_path,index_col=0)\n",
    "    dic='../data/text_data_ver2/text_mokuzi_data_raw/'+str(company)\n",
    "    folderfile = os.listdir(dic)\n",
    "    #フォルダを作成する\n",
    "#     try:\n",
    "#         os.makedirs(dic)\n",
    "#     except FileExistsError:\n",
    "#         pass\n",
    "    \n",
    "    for code in df[\"pdf_code\"]:\n",
    "        file_name = str(code)+'.txt'\n",
    "        if file_name in folderfile:\n",
    "            pass\n",
    "        else:\n",
    "            pdf_path = '../data/TDNet_full_data/API_data/'+str(company)+'_g/'+str(company)+\"_\"+str(code)+'.pdf'\n",
    "            out_path = '../data/text_data_ver2/text_mokuzi_data_raw/'+str(company)+'/'+str(code)+'.txt'\n",
    "            create_mokuzi(out_path,pdf_path)"
   ]
  },
  {
   "cell_type": "code",
   "execution_count": 29,
   "id": "c41e8d85",
   "metadata": {},
   "outputs": [
    {
     "data": {
      "text/plain": [
       "'../data/text_mokuzi_data_raw/17110'"
      ]
     },
     "execution_count": 29,
     "metadata": {},
     "output_type": "execute_result"
    }
   ],
   "source": [
    "dic"
   ]
  },
  {
   "cell_type": "code",
   "execution_count": 30,
   "id": "945afbe1",
   "metadata": {},
   "outputs": [
    {
     "data": {
      "text/plain": [
       "['20201106417369.txt',\n",
       " '20200805474833.txt',\n",
       " '20180809495900.txt',\n",
       " '20220210585966.txt',\n",
       " '20180813497314.txt',\n",
       " '20210810482512.txt',\n",
       " '20190214477776.txt',\n",
       " '20180829401725.txt',\n",
       " '20210514419912.txt',\n",
       " '20191111423931.txt',\n",
       " '20200210460942.txt',\n",
       " '20190514426220.txt',\n",
       " '20210208458486.txt',\n",
       " '20171113416832.txt',\n",
       " '20200221468743.txt',\n",
       " '20190808485928.txt',\n",
       " '20200515415872.txt',\n",
       " '20211111431854.txt',\n",
       " '20181113436946.txt',\n",
       " '20180213471072.txt',\n",
       " '20180814497627.txt',\n",
       " '20170809452741.txt',\n",
       " '20220512542300.txt']"
      ]
     },
     "execution_count": 30,
     "metadata": {},
     "output_type": "execute_result"
    }
   ],
   "source": [
    "folderfile"
   ]
  },
  {
   "cell_type": "code",
   "execution_count": 41,
   "id": "2f82c101",
   "metadata": {},
   "outputs": [],
   "source": [
    "company=13820\n",
    "df_path = '../data/new2/df_achieve/this/{}.csv'.format(company)\n",
    "df = pd.read_csv(df_path,index_col=0)"
   ]
  },
  {
   "cell_type": "code",
   "execution_count": 50,
   "id": "fa1acb0a",
   "metadata": {},
   "outputs": [],
   "source": [
    " for ind in df.index:\n",
    "        pdf_path = '../data/TDNet_full_data/API_data/'+str(company)+'_g/'+str(company)+\"_\"+str(df[\"pdf_code\"][ind])+'.pdf'\n",
    "        out_path = '../data/text_mokuzi_data/'+str(company)+'/'+str(df[\"pdf_code\"][ind])+'.txt'\n",
    "        dic='../data/text_mokuzi_data/'+str(company)\n",
    "        \n",
    "        create_mokuzi(out_path,pdf_path)\n",
    "        #print('------------------------------------------------------------------')"
   ]
  },
  {
   "cell_type": "code",
   "execution_count": 166,
   "id": "08b48a6d",
   "metadata": {
    "scrolled": true
   },
   "outputs": [
    {
     "data": {
      "text/plain": [
       "'../data/text_mokuzi_data/13010/20170619410034.txt'"
      ]
     },
     "execution_count": 166,
     "metadata": {},
     "output_type": "execute_result"
    }
   ],
   "source": [
    "out_path"
   ]
  },
  {
   "cell_type": "code",
   "execution_count": 106,
   "id": "d9ac4afa",
   "metadata": {},
   "outputs": [
    {
     "data": {
      "text/plain": [
       "['○添付資料の目次',\n",
       " '１．経営成績等の概況 …………………………………………………………………………………２',\n",
       " '（１）当期の経営成績の概況 ………………………………………………………………………２',\n",
       " '（２）当期の財政状態の概況 ………………………………………………………………………３',\n",
       " '（３）当期のキャッシュ・フローの概況 …………………………………………………………３',\n",
       " '（４）今後の見通し …………………………………………………………………………………３',\n",
       " '（５）利益配分に関する基本方針及び当期・次期の配当 ………………………………………４',\n",
       " '２．会計基準の選択に関する基本的な考え方 ………………………………………………………４',\n",
       " '３．連結財務諸表及び主な注記 ………………………………………………………………………５',\n",
       " '（１）連結貸借対照表 ………………………………………………………………………………５',\n",
       " '（２）連結損益計算書及び連結包括利益計算書 …………………………………………………７',\n",
       " '（３）連結株主資本等変動計算書 …………………………………………………………………９',\n",
       " '（４）連結キャッシュ・フロー計算書 ……………………………………………………………10',\n",
       " '（５）連結財務諸表に関する注記事項 ……………………………………………………………11',\n",
       " '（継続企業の前提に関する注記） ………………………………………………………………11',\n",
       " '（セグメント情報等） ……………………………………………………………………………11',\n",
       " '（１株当たり情報） ………………………………………………………………………………13',\n",
       " '（重要な後発事象） ………………………………………………………………………………14']"
      ]
     },
     "execution_count": 106,
     "metadata": {},
     "output_type": "execute_result"
    }
   ],
   "source": [
    "mokuzi"
   ]
  },
  {
   "cell_type": "markdown",
   "id": "01c4f1be",
   "metadata": {},
   "source": [
    "## 取得した目次部分の正規化"
   ]
  },
  {
   "cell_type": "code",
   "execution_count": 4,
   "id": "e03bd967",
   "metadata": {},
   "outputs": [],
   "source": [
    "company=16620\n",
    "df_path = '../data/new2/df_achieve/this/{}.csv'.format(company)\n",
    "df = pd.read_csv(df_path,index_col=0)\n",
    "mokuzi_path = '../data/text_mokuzi_data_raw/'+str(company)+'/'+str(df[\"pdf_code\"][3])+'.txt'"
   ]
  },
  {
   "cell_type": "code",
   "execution_count": 95,
   "id": "cca7b6d8",
   "metadata": {},
   "outputs": [],
   "source": [
    "#mokuzi_path = '../data/text_mokuzi_data_raw/'+str(company)+'/'+str(20210708463685)+'.txt'\n",
    "with open(mokuzi_path,'r') as t:\n",
    "    text=t.read()"
   ]
  },
  {
   "cell_type": "code",
   "execution_count": 96,
   "id": "149ef6d7",
   "metadata": {
    "scrolled": true
   },
   "outputs": [
    {
     "name": "stdout",
     "output_type": "stream",
     "text": [
      "○添付資料の目次\n",
      "\n",
      "１．経営成績等の概況 ･････････････････････････････････････････････････････････････････････････ 2\n",
      "(1) 当期の経営成績の概況 ･･････････････････････････････････････････････････････････････････ 2\n",
      "(2) 当期の財政状態の概況 ･･････････････････････････････････････････････････････････････････ 4\n",
      "(3) 当期のキャッシュ・フローの概況 ････････････････････････････････････････････････････････ 4\n",
      "(4) 今後の見通し ･･････････････････････････････････････････････････････････････････････････ 5\n",
      "２．会計基準の選択に関する基本的な考え方･･･････････････････････････････････････････････････････ 6\n",
      "３．連結財務諸表及び主な注記 ･････････････････････････････････････････････････････････････････ 7\n",
      "(1) 連結貸借対照表 ････････････････････････････････････････････････････････････････････････ 7\n",
      "(2) 連結損益計算書及び連結包括利益計算書 ･･････････････････････････････････････････････････ 9\n",
      "連結損益計算書 ････････････････････････････････････････････････････････････････････････ 9\n",
      "連結包括利益計算書 ････････････････････････････････････････････････････････････････････ 10\n",
      "(3) 連結株主資本等変動計算書 ･･････････････････････････････････････････････････････････････ 11\n",
      "(4) 連結キャッシュ・フロー計算書 ･･････････････････････････････････････････････････････････ 13\n",
      "(5) 連結財務諸表に関する注記事項 ･･････････････････････････････････････････････････････････ 15\n",
      "（継続企業の前提に関する注記） ････････････････････････････････････････････････････････ 15\n",
      "（連結貸借対照表関係） ････････････････････････････････････････････････････････････････ 15\n",
      "（連結損益計算書関係） ････････････････････････････････････････････････････････････････ 15\n",
      "（連結株主資本等変動計算書関係） ･･････････････････････････････････････････････････････ 17\n",
      "（連結キャッシュ・フロー計算書関係） ･･････････････････････････････････････････････････ 18\n",
      "（セグメント情報等） ･･････････････････････････････････････････････････････････････････ 19\n",
      "（１株当たり情報） ････････････････････････････････････････････････････････････････････ 23\n",
      "（重要な後発事象） ････････････････････････････････････････････････････････････････････ 23\n",
      "４．その他 ･･･････････････････････････････････････････････････････････････････････････････････ 24\n",
      "生産・販売の状況 ･････････････････････････････････････････････････････････････････････････ 24\n",
      "\n",
      "－1－\n",
      "\n",
      "\n"
     ]
    }
   ],
   "source": [
    "print(text)"
   ]
  },
  {
   "cell_type": "code",
   "execution_count": 23,
   "id": "ba75173c",
   "metadata": {},
   "outputs": [],
   "source": [
    "def text_normalize(text):\n",
    "    text = text.replace('添付資料の目次','')\n",
    "   #text = text.replace('…','')\n",
    "    #text= text.replace('·','')\n",
    "    text= text.replace('○','')\n",
    "    text= text.replace('\\n\\n','')\n",
    "    text= text.replace(' ','')\n",
    "    text= text.replace('\\x0c','')\n",
    "    return(text)"
   ]
  },
  {
   "cell_type": "code",
   "execution_count": 98,
   "id": "591bb278",
   "metadata": {},
   "outputs": [],
   "source": [
    "text=(text_normalize(text))"
   ]
  },
  {
   "cell_type": "code",
   "execution_count": 99,
   "id": "2a5695ca",
   "metadata": {},
   "outputs": [],
   "source": [
    "Flag=False\n",
    "mokuzi=[]\n",
    "mokuzi_start=0\n",
    "flag=False\n",
    "for i,word in enumerate(text):\n",
    "    if not flag:\n",
    "        if word == \"…\" or word == '·' or word == '･':\n",
    "            mokuzi.append(text[mokuzi_start:i])\n",
    "            flag=True\n",
    "    \n",
    "    elif flag and word=='\\n':\n",
    "        mokuzi_start=i+1\n",
    "        flag=False"
   ]
  },
  {
   "cell_type": "code",
   "execution_count": 100,
   "id": "dca71281",
   "metadata": {},
   "outputs": [
    {
     "data": {
      "text/plain": [
       "['１．経営成績等の概況',\n",
       " '(1)当期の経営成績の概況',\n",
       " '(2)当期の財政状態の概況',\n",
       " '(3)当期のキャッシュ・フローの概況',\n",
       " '(4)今後の見通し',\n",
       " '２．会計基準の選択に関する基本的な考え方',\n",
       " '３．連結財務諸表及び主な注記',\n",
       " '(1)連結貸借対照表',\n",
       " '(2)連結損益計算書及び連結包括利益計算書',\n",
       " '連結損益計算書',\n",
       " '連結包括利益計算書',\n",
       " '(3)連結株主資本等変動計算書',\n",
       " '(4)連結キャッシュ・フロー計算書',\n",
       " '(5)連結財務諸表に関する注記事項',\n",
       " '（継続企業の前提に関する注記）',\n",
       " '（連結貸借対照表関係）',\n",
       " '（連結損益計算書関係）',\n",
       " '（連結株主資本等変動計算書関係）',\n",
       " '（連結キャッシュ・フロー計算書関係）',\n",
       " '（セグメント情報等）',\n",
       " '（１株当たり情報）',\n",
       " '（重要な後発事象）',\n",
       " '４．その他',\n",
       " '生産・販売の状況']"
      ]
     },
     "execution_count": 100,
     "metadata": {},
     "output_type": "execute_result"
    }
   ],
   "source": [
    "mokuzi"
   ]
  },
  {
   "cell_type": "code",
   "execution_count": 31,
   "id": "ce55b458",
   "metadata": {},
   "outputs": [
    {
     "name": "stderr",
     "output_type": "stream",
     "text": [
      "100%|██████████████████████████████████████| 2512/2512 [00:13<00:00, 183.75it/s]\n"
     ]
    }
   ],
   "source": [
    "#全てを回す\n",
    "for company in tqdm.tqdm(company_list.index):\n",
    "    df_path = '../data/new2/df_achieve/this/{}.csv'.format(company)\n",
    "    df = pd.read_csv(df_path,index_col=0)\n",
    "    dic =  '../data/text_data_ver2/text_mokuzi_data_pre/'+str(company)\n",
    "\n",
    "    #フォルダを作成する\n",
    "#     try:\n",
    "#         os.makedirs(dic)\n",
    "#     except FileExistsError:\n",
    "#         pass\n",
    "    \n",
    "    #企業ごとで回す\n",
    "    for code in df[\"pdf_code\"]:\n",
    "        mokuzi_path = '../data/text_data_ver2/text_mokuzi_data_raw/'+str(company)+'/'+str(code)+'.txt'\n",
    "        out_path = '../data/text_data_ver2/text_mokuzi_data_pre/'+str(company)+'/'+str(code)+'.pkl'\n",
    "    \n",
    "        with open(mokuzi_path,'r') as t:\n",
    "            text=t.read()\n",
    "    \n",
    "        text=(text_normalize(text))\n",
    "        Flag=False\n",
    "        mokuzi=[]\n",
    "        mokuzi_start=0\n",
    "        flag=False\n",
    "        for i,word in enumerate(text):\n",
    "            if not flag:\n",
    "                if word == \"…\" or word == '·' or word == '･':\n",
    "                    mokuzi.append(text[mokuzi_start:i])\n",
    "                    flag=True\n",
    "\n",
    "            elif flag and word=='\\n':\n",
    "                mokuzi_start=i+1\n",
    "                flag=False\n",
    "\n",
    "        #保存\n",
    "        with open(out_path, 'wb') as p:\n",
    "            pickle.dump(mokuzi, p)\n"
   ]
  },
  {
   "cell_type": "code",
   "execution_count": null,
   "id": "6fade2ac",
   "metadata": {},
   "outputs": [],
   "source": []
  },
  {
   "cell_type": "code",
   "execution_count": 32,
   "id": "9ab39c8a",
   "metadata": {},
   "outputs": [
    {
     "name": "stderr",
     "output_type": "stream",
     "text": [
      "100%|██████████████████████████████████████| 2512/2512 [00:08<00:00, 283.35it/s]\n"
     ]
    }
   ],
   "source": [
    "#目次の確認\n",
    "# company=13330\n",
    "for company in tqdm.tqdm(company_list.index):\n",
    "    df_path = '../data/new2/df_achieve/this/{}.csv'.format(company)\n",
    "    df = pd.read_csv(df_path,index_col=0)\n",
    "\n",
    "    #企業ごとで回す\n",
    "    for code in df[\"pdf_code\"]:\n",
    "        mokuzi_path = '../data/text_data_ver2/text_mokuzi_data_raw/'+str(company)+'/'+str(code)+'.txt'\n",
    "        out_path = '../data/text_data_ver2/text_mokuzi_data_pre/'+str(company)+'/'+str(code)+'.pkl'\n",
    "\n",
    "        with open(out_path, 'rb') as p:\n",
    "            out_list=pickle.load(p)\n",
    "\n",
    "        if len(out_list)<5:\n",
    "\n",
    "            with open(mokuzi_path,'r') as t:\n",
    "                text=t.read()\n",
    "            mokuzi_list=(text.split('\\n'))\n",
    "            new_mokuzi_list=[]\n",
    "            for mokuzi in mokuzi_list:\n",
    "\n",
    "                if '添付資料の目次' in mokuzi:\n",
    "                    pass\n",
    "                elif mokuzi=='':\n",
    "                    pass\n",
    "                elif len(mokuzi)>5:\n",
    "                    kari_mokuzi=mokuzi\n",
    "                    for i,word in enumerate(kari_mokuzi):\n",
    "                        if word ==' ' or word =='…' or word =='・' or word =='･':\n",
    "                            kari_mokuzi = kari_mokuzi[:i]\n",
    "                            break\n",
    "\n",
    "                    if kari_mokuzi==\"\":\n",
    "                        pass\n",
    "                    else:\n",
    "                        new_mokuzi_list.append(kari_mokuzi)   \n",
    "            #保存\n",
    "            with open(out_path, 'wb') as p:\n",
    "                pickle.dump(new_mokuzi_list, p)"
   ]
  },
  {
   "cell_type": "code",
   "execution_count": 33,
   "id": "f55756c2",
   "metadata": {},
   "outputs": [
    {
     "data": {
      "text/plain": [
       "['１．経営成績等の概況',\n",
       " '（１）当期の経営成績の概況',\n",
       " '（２）当期の財政状態の概況',\n",
       " '（３）当期のキャッシュ',\n",
       " '（４）今後の見通し',\n",
       " '２．会計基準の選択に関する基本的な考え方',\n",
       " '３．連結財務諸表及び主な注記',\n",
       " '（１）連結貸借対照表',\n",
       " '（２）連結損益計算書及び連結包括利益計算書',\n",
       " '（３）連結株主資本等変動計算書',\n",
       " '（４）連結キャッシュ',\n",
       " '（５）連結財務諸表に関する注記事項',\n",
       " '（継続企業の前提に関する注記）',\n",
       " '（会計方針の変更）',\n",
       " '（セグメント情報等）',\n",
       " '（１株当たり情報）',\n",
       " '（重要な後発事象）']"
      ]
     },
     "execution_count": 33,
     "metadata": {},
     "output_type": "execute_result"
    }
   ],
   "source": [
    "new_mokuzi_list"
   ]
  },
  {
   "cell_type": "code",
   "execution_count": 34,
   "id": "346c7b35",
   "metadata": {},
   "outputs": [
    {
     "data": {
      "text/plain": [
       "'○添付資料の目次\\n１．経営成績等の概況 ……………………………………………………………………………………\\n\\n２\\n\\n（１）当期の経営成績の概況 …………………………………………………………………………\\n\\n２\\n\\n（２）当期の財政状態の概況 …………………………………………………………………………\\n\\n４\\n\\n（３）当期のキャッシュ・フローの概況 ……………………………………………………………\\n\\n５\\n\\n（４）今後の見通し ……………………………………………………………………………………\\n\\n６\\n\\n２．会計基準の選択に関する基本的な考え方 …………………………………………………………\\n\\n６\\n\\n３．連結財務諸表及び主な注記 …………………………………………………………………………\\n\\n７\\n\\n（１）連結貸借対照表 …………………………………………………………………………………\\n\\n７\\n\\n（２）連結損益計算書及び連結包括利益計算書 ……………………………………………………\\n\\n９\\n\\n（３）連結株主資本等変動計算書 ……………………………………………………………………\\n\\n12\\n\\n（４）連結キャッシュ・フロー計算書 ………………………………………………………………\\n\\n14\\n\\n（５）連結財務諸表に関する注記事項 ………………………………………………………………\\n\\n16\\n\\n（継続企業の前提に関する注記） …………………………………………………………………\\n\\n16\\n\\n（会計方針の変更） …………………………………………………………………………………\\n\\n16\\n\\n（セグメント情報等） ………………………………………………………………………………\\n\\n17\\n\\n（１株当たり情報） …………………………………………………………………………………\\n\\n20\\n\\n（重要な後発事象） …………………………………………………………………………………\\n\\n20\\n\\n－ 1 －\\n\\n'"
      ]
     },
     "execution_count": 34,
     "metadata": {},
     "output_type": "execute_result"
    }
   ],
   "source": [
    "text"
   ]
  },
  {
   "cell_type": "code",
   "execution_count": 35,
   "id": "963eece1",
   "metadata": {},
   "outputs": [
    {
     "name": "stdout",
     "output_type": "stream",
     "text": [
      "14460\n",
      "40470\n",
      "45390\n",
      "53370\n",
      "62300\n"
     ]
    }
   ],
   "source": [
    "#目次の確認\n",
    "for company in (company_list.index):\n",
    "    df_path = '../data/new2/df_achieve/this/{}.csv'.format(company)\n",
    "    df = pd.read_csv(df_path,index_col=0)\n",
    "\n",
    "    #企業ごとで回す\n",
    "    for code in df[\"pdf_code\"]:\n",
    "        mokuzi_path = '../data/text_data_ver2/text_mokuzi_data_raw/'+str(company)+'/'+str(code)+'.txt'\n",
    "        out_path = '../data/text_data_ver2/text_mokuzi_data_pre/'+str(company)+'/'+str(code)+'.pkl'\n",
    "    \n",
    "        with open(out_path, 'rb') as p:\n",
    "            out_list=pickle.load(p)\n",
    "            \n",
    "        if 0<len(out_list)<5:\n",
    "            print(company)\n",
    "            break\n",
    "        "
   ]
  },
  {
   "cell_type": "markdown",
   "id": "e95fc92e",
   "metadata": {},
   "source": [
    "## エラー\n",
    "- 40470\n",
    "- 45390\n",
    "- 53370"
   ]
  },
  {
   "cell_type": "code",
   "execution_count": 92,
   "id": "fcc0b1ac",
   "metadata": {},
   "outputs": [
    {
     "name": "stdout",
     "output_type": "stream",
     "text": [
      "62300\n"
     ]
    }
   ],
   "source": [
    "company=62300\n",
    "df_path = '../data/new2/df_achieve/this/{}.csv'.format(company)\n",
    "df = pd.read_csv(df_path,index_col=0)\n",
    "\n",
    "#企業ごとで回す\n",
    "for code in df[\"pdf_code\"]:\n",
    "    mokuzi_path = '../data/text_data_ver2/text_mokuzi_data_raw/'+str(company)+'/'+str(code)+'.txt'\n",
    "    out_path = '../data/text_data_ver2/text_mokuzi_data_pre/'+str(company)+'/'+str(code)+'.pkl'\n",
    "\n",
    "    with open(out_path, 'rb') as p:\n",
    "        out_list=pickle.load(p)\n",
    "\n",
    "    if len(out_list)<5:\n",
    "        print(company)\n",
    "        break"
   ]
  },
  {
   "cell_type": "code",
   "execution_count": 93,
   "id": "106ef9a5",
   "metadata": {},
   "outputs": [
    {
     "data": {
      "text/plain": [
       "['１．四半期連結財務諸表及び主な注記2',\n",
       " '（１）四半期連結貸借対照表2',\n",
       " '（２）四半期連結損益計算書及び四半期連結包括利益計算書4',\n",
       " '（３）四半期連結財務諸表に関する注記事項6']"
      ]
     },
     "execution_count": 93,
     "metadata": {},
     "output_type": "execute_result"
    }
   ],
   "source": [
    "out_list"
   ]
  },
  {
   "cell_type": "code",
   "execution_count": 94,
   "id": "563f264f",
   "metadata": {},
   "outputs": [
    {
     "name": "stdout",
     "output_type": "stream",
     "text": [
      "○添付資料の目次\n",
      "\n",
      "１．四半期連結財務諸表及び主な注記 …………………………………………………………………… 2\n",
      "（１）四半期連結貸借対照表 ……………………………………………………………………………… 2\n",
      "（２）四半期連結損益計算書及び四半期連結包括利益計算書 ………………………………………… 4\n",
      "（３）四半期連結財務諸表に関する注記事項 …………………………………………………………… 6\n",
      "\n",
      "1\n",
      "\n",
      "\n"
     ]
    }
   ],
   "source": [
    " with open(mokuzi_path,'r') as t:\n",
    "        text=t.read()\n",
    "print(text)"
   ]
  },
  {
   "cell_type": "markdown",
   "id": "47e99593",
   "metadata": {},
   "source": [
    "# memo"
   ]
  },
  {
   "cell_type": "code",
   "execution_count": 99,
   "id": "6f458af7",
   "metadata": {},
   "outputs": [],
   "source": [
    "import subprocess\n",
    "import zenhan\n",
    "import os\n",
    "import sys\n",
    "import re\n",
    "import unicodedata\n",
    "import argparse\n",
    "def create_text(out,file):\n",
    "    line_1 = \"\"\n",
    "    text=\"\"\n",
    "    sentences_list=[]\n",
    "\n",
    "    with open(out,'w') as out:\n",
    "        mat_eol = re.compile(\"\\n\".encode('utf-8'))\n",
    "        sentences = []\n",
    "        #sentence=[]\n",
    "        mokuzi_text=[]\n",
    "        mokuzi_flag=False\n",
    "        p = subprocess.run(('pdftotext', file, '-'), stdout = subprocess.PIPE, stderr = subprocess.PIPE)\n",
    "        temp = u\"\"\n",
    "        \n",
    "        for line in mat_eol.split(p.stdout):\n",
    "            try:\n",
    "                line = line.decode('utf-8')\n",
    "                #print(line)\n",
    "                #print(\"-----------------------\")\n",
    "            except:\n",
    "                line = \"\"\n",
    "            \n",
    "            #目次がある場合は，それを取得する------\n",
    "            if \"目次\" in line and mokuzi_text==[]:\n",
    "                #mokuzi_text.append(line)\n",
    "                mokuzi_flag=True\n",
    "            if mokuzi_flag:\n",
    "                if line==\"\":# and mokuzi_text[-1]==\"\":\n",
    "                    mokuzi_flag=False\n",
    "                else:\n",
    "                    mokuzi_text.append(line)\n",
    "            #---------------------------------------------\n",
    "            \n",
    "            if line == \"\":\n",
    "                \n",
    "                if temp != \"\" and u\"。\" in temp:\n",
    "                    sentences = sentences + re.split(u\"。\", temp)\n",
    "                    #print(temp)\n",
    "                temp = u\"\"\n",
    "                \n",
    "            else:\n",
    "                temp = temp+line\n",
    "\n",
    "        if temp != \"\" and u\"。\" in temp:\n",
    "            sentences = sentences + re.split(u\"。\", temp)\n",
    "    \n",
    "        for line in sentences :\n",
    "            text=line\n",
    "            sentences_list.append(normalize(text + u\"。\"))\n",
    "\n",
    "        for sentence in sentences_list:\n",
    "            out.write(sentence+\"\\n\")\n",
    "        print(mokuzi_text)"
   ]
  }
 ],
 "metadata": {
  "kernelspec": {
   "display_name": "Python 3 (ipykernel)",
   "language": "python",
   "name": "python3"
  },
  "language_info": {
   "codemirror_mode": {
    "name": "ipython",
    "version": 3
   },
   "file_extension": ".py",
   "mimetype": "text/x-python",
   "name": "python",
   "nbconvert_exporter": "python",
   "pygments_lexer": "ipython3",
   "version": "3.8.8"
  },
  "toc": {
   "base_numbering": 1,
   "nav_menu": {},
   "number_sections": true,
   "sideBar": true,
   "skip_h1_title": false,
   "title_cell": "Table of Contents",
   "title_sidebar": "Contents",
   "toc_cell": false,
   "toc_position": {},
   "toc_section_display": true,
   "toc_window_display": false
  }
 },
 "nbformat": 4,
 "nbformat_minor": 5
}
