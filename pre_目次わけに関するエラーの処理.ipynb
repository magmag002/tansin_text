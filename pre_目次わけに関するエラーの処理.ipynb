{
 "cells": [
  {
   "cell_type": "code",
   "execution_count": 1,
   "id": "5ea68065",
   "metadata": {},
   "outputs": [],
   "source": [
    "import subprocess\n",
    "import zenhan\n",
    "import os\n",
    "import sys\n",
    "import re\n",
    "import unicodedata\n",
    "import argparse\n",
    "import pandas as pd\n",
    "import pickle\n",
    "import json\n",
    "import tqdm"
   ]
  },
  {
   "cell_type": "code",
   "execution_count": 2,
   "id": "3b59ff91",
   "metadata": {},
   "outputs": [],
   "source": [
    "#企業リストを取得\n",
    "company_list = pd.read_csv(\"../data/new2/df_achieve/company_list.csv\",index_col=0)\n",
    "company_list=company_list.drop(14350)\n",
    "company_list=company_list.drop(52080)\n",
    "company_list=company_list.drop(95080)\n",
    "with open('../data/text_data_ver2/non_company_list.pkl', 'rb') as f:\n",
    "    non_list = pickle.load(f)\n",
    "for com in non_list:\n",
    "    company_list=company_list.drop(com)"
   ]
  },
  {
   "cell_type": "code",
   "execution_count": 246,
   "id": "f452cb77",
   "metadata": {},
   "outputs": [
    {
     "data": {
      "text/html": [
       "<div>\n",
       "<style scoped>\n",
       "    .dataframe tbody tr th:only-of-type {\n",
       "        vertical-align: middle;\n",
       "    }\n",
       "\n",
       "    .dataframe tbody tr th {\n",
       "        vertical-align: top;\n",
       "    }\n",
       "\n",
       "    .dataframe thead th {\n",
       "        text-align: right;\n",
       "    }\n",
       "</style>\n",
       "<table border=\"1\" class=\"dataframe\">\n",
       "  <thead>\n",
       "    <tr style=\"text-align: right;\">\n",
       "      <th></th>\n",
       "      <th>uriage</th>\n",
       "      <th>pred</th>\n",
       "      <th>achieve</th>\n",
       "      <th>f_score</th>\n",
       "      <th>j_score</th>\n",
       "      <th>word_cnt</th>\n",
       "      <th>pdf_code</th>\n",
       "      <th>title</th>\n",
       "      <th>tuki_pred</th>\n",
       "    </tr>\n",
       "  </thead>\n",
       "  <tbody>\n",
       "    <tr>\n",
       "      <th>2017-08-08</th>\n",
       "      <td>59803</td>\n",
       "      <td>211025.0</td>\n",
       "      <td>-0.716607</td>\n",
       "      <td>-0.017162</td>\n",
       "      <td>0.017162</td>\n",
       "      <td>874</td>\n",
       "      <td>20170804448287</td>\n",
       "      <td>平成30年3月期第1四半期決算短信〔日本基準〕（連結）</td>\n",
       "      <td>211025.0</td>\n",
       "    </tr>\n",
       "    <tr>\n",
       "      <th>2017-11-10</th>\n",
       "      <td>112382</td>\n",
       "      <td>211025.0</td>\n",
       "      <td>-0.467447</td>\n",
       "      <td>-0.002296</td>\n",
       "      <td>0.021814</td>\n",
       "      <td>871</td>\n",
       "      <td>20171107410918</td>\n",
       "      <td>平成30年3月期第2四半期決算短信〔日本基準〕（連結）</td>\n",
       "      <td>211025.0</td>\n",
       "    </tr>\n",
       "    <tr>\n",
       "      <th>2018-02-09</th>\n",
       "      <td>158274</td>\n",
       "      <td>211025.0</td>\n",
       "      <td>-0.249975</td>\n",
       "      <td>-0.003953</td>\n",
       "      <td>0.027668</td>\n",
       "      <td>759</td>\n",
       "      <td>20180201461875</td>\n",
       "      <td>平成30年3月期第3四半期決算短信〔日本基準〕（連結）</td>\n",
       "      <td>211025.0</td>\n",
       "    </tr>\n",
       "    <tr>\n",
       "      <th>2018-05-11</th>\n",
       "      <td>230629</td>\n",
       "      <td>265649.0</td>\n",
       "      <td>0.092899</td>\n",
       "      <td>0.025227</td>\n",
       "      <td>0.032291</td>\n",
       "      <td>1982</td>\n",
       "      <td>20180509430631</td>\n",
       "      <td>平成30年3月期決算短信〔日本基準〕（連結）</td>\n",
       "      <td>265649.0</td>\n",
       "    </tr>\n",
       "    <tr>\n",
       "      <th>2018-08-08</th>\n",
       "      <td>57623</td>\n",
       "      <td>265649.0</td>\n",
       "      <td>-0.783086</td>\n",
       "      <td>-0.023077</td>\n",
       "      <td>0.061538</td>\n",
       "      <td>130</td>\n",
       "      <td>20180808494181</td>\n",
       "      <td>平成31年3月期第1四半期決算短信〔日本基準〕（連結）</td>\n",
       "      <td>265649.0</td>\n",
       "    </tr>\n",
       "    <tr>\n",
       "      <th>2018-11-09</th>\n",
       "      <td>115136</td>\n",
       "      <td>265649.0</td>\n",
       "      <td>-0.566586</td>\n",
       "      <td>0.023148</td>\n",
       "      <td>0.025463</td>\n",
       "      <td>864</td>\n",
       "      <td>20181107431549</td>\n",
       "      <td>平成31年3月期 第2四半期決算短信〔日本基準〕（連結）</td>\n",
       "      <td>265649.0</td>\n",
       "    </tr>\n",
       "    <tr>\n",
       "      <th>2019-02-12</th>\n",
       "      <td>207425</td>\n",
       "      <td>265649.0</td>\n",
       "      <td>-0.219176</td>\n",
       "      <td>-0.026764</td>\n",
       "      <td>0.032847</td>\n",
       "      <td>822</td>\n",
       "      <td>20190123462606</td>\n",
       "      <td>平成31年3月期 第3四半期決算短信〔日本基準〕（連結）</td>\n",
       "      <td>265649.0</td>\n",
       "    </tr>\n",
       "    <tr>\n",
       "      <th>2019-05-10</th>\n",
       "      <td>267980</td>\n",
       "      <td>308650.0</td>\n",
       "      <td>0.008775</td>\n",
       "      <td>0.023121</td>\n",
       "      <td>0.030347</td>\n",
       "      <td>2076</td>\n",
       "      <td>20190510420023</td>\n",
       "      <td>2019年3月期 決算短信〔日本基準〕（連結）</td>\n",
       "      <td>308650.0</td>\n",
       "    </tr>\n",
       "    <tr>\n",
       "      <th>2019-08-09</th>\n",
       "      <td>93252</td>\n",
       "      <td>308650.0</td>\n",
       "      <td>-0.697871</td>\n",
       "      <td>-0.023988</td>\n",
       "      <td>0.026987</td>\n",
       "      <td>667</td>\n",
       "      <td>20190808485187</td>\n",
       "      <td>2020年3月期 第1四半期決算短信〔日本基準〕（連結）</td>\n",
       "      <td>308650.0</td>\n",
       "    </tr>\n",
       "    <tr>\n",
       "      <th>2019-11-08</th>\n",
       "      <td>162346</td>\n",
       "      <td>308650.0</td>\n",
       "      <td>-0.474013</td>\n",
       "      <td>-0.030973</td>\n",
       "      <td>0.029499</td>\n",
       "      <td>678</td>\n",
       "      <td>20191108422329</td>\n",
       "      <td>2020年3月期 第2四半期決算短信〔日本基準〕（連結）</td>\n",
       "      <td>308650.0</td>\n",
       "    </tr>\n",
       "    <tr>\n",
       "      <th>2020-02-10</th>\n",
       "      <td>247819</td>\n",
       "      <td>308650.0</td>\n",
       "      <td>-0.197087</td>\n",
       "      <td>-0.017217</td>\n",
       "      <td>0.031564</td>\n",
       "      <td>697</td>\n",
       "      <td>20200207460327</td>\n",
       "      <td>2020年3月期 第3四半期決算短信〔日本基準〕（連結）</td>\n",
       "      <td>308650.0</td>\n",
       "    </tr>\n",
       "    <tr>\n",
       "      <th>2020-05-14</th>\n",
       "      <td>318822</td>\n",
       "      <td>223685.0</td>\n",
       "      <td>0.032956</td>\n",
       "      <td>0.011850</td>\n",
       "      <td>0.015456</td>\n",
       "      <td>1941</td>\n",
       "      <td>20200514413721</td>\n",
       "      <td>2020年3月期 決算短信〔日本基準〕（連結）</td>\n",
       "      <td>223685.0</td>\n",
       "    </tr>\n",
       "    <tr>\n",
       "      <th>2020-08-11</th>\n",
       "      <td>51018</td>\n",
       "      <td>223685.0</td>\n",
       "      <td>-0.771920</td>\n",
       "      <td>-0.000836</td>\n",
       "      <td>0.015886</td>\n",
       "      <td>1196</td>\n",
       "      <td>20200811479144</td>\n",
       "      <td>2021年3月期 第1四半期決算短信〔日本基準〕（連結）</td>\n",
       "      <td>223685.0</td>\n",
       "    </tr>\n",
       "    <tr>\n",
       "      <th>2020-11-10</th>\n",
       "      <td>98127</td>\n",
       "      <td>223685.0</td>\n",
       "      <td>-0.561316</td>\n",
       "      <td>-0.039451</td>\n",
       "      <td>0.015437</td>\n",
       "      <td>1166</td>\n",
       "      <td>20201110419641</td>\n",
       "      <td>2021年3月期 第2四半期決算短信〔日本基準〕（連結）</td>\n",
       "      <td>223685.0</td>\n",
       "    </tr>\n",
       "    <tr>\n",
       "      <th>2021-02-08</th>\n",
       "      <td>150099</td>\n",
       "      <td>223685.0</td>\n",
       "      <td>-0.328972</td>\n",
       "      <td>-0.044739</td>\n",
       "      <td>0.019056</td>\n",
       "      <td>1207</td>\n",
       "      <td>20210208457790</td>\n",
       "      <td>2021年3月期 第3四半期決算短信〔日本基準〕（連結）</td>\n",
       "      <td>223685.0</td>\n",
       "    </tr>\n",
       "    <tr>\n",
       "      <th>2021-05-13</th>\n",
       "      <td>240078</td>\n",
       "      <td>211153.0</td>\n",
       "      <td>0.073286</td>\n",
       "      <td>-0.010509</td>\n",
       "      <td>0.014147</td>\n",
       "      <td>2474</td>\n",
       "      <td>20210513415706</td>\n",
       "      <td>2021年3月期 決算短信〔日本基準〕（連結）</td>\n",
       "      <td>211153.0</td>\n",
       "    </tr>\n",
       "    <tr>\n",
       "      <th>2021-08-10</th>\n",
       "      <td>50083</td>\n",
       "      <td>211153.0</td>\n",
       "      <td>-0.762812</td>\n",
       "      <td>-0.035647</td>\n",
       "      <td>0.048155</td>\n",
       "      <td>1599</td>\n",
       "      <td>20210810482225</td>\n",
       "      <td>2022年3月期 第1四半期決算短信〔日本基準〕（連結）</td>\n",
       "      <td>211153.0</td>\n",
       "    </tr>\n",
       "    <tr>\n",
       "      <th>2021-11-09</th>\n",
       "      <td>118507</td>\n",
       "      <td>211153.0</td>\n",
       "      <td>-0.438762</td>\n",
       "      <td>-0.003996</td>\n",
       "      <td>0.045954</td>\n",
       "      <td>2002</td>\n",
       "      <td>20211109428435</td>\n",
       "      <td>2022年3月期 第2四半期決算短信〔日本基準〕（連結）</td>\n",
       "      <td>211153.0</td>\n",
       "    </tr>\n",
       "    <tr>\n",
       "      <th>2022-02-09</th>\n",
       "      <td>171364</td>\n",
       "      <td>211153.0</td>\n",
       "      <td>-0.188437</td>\n",
       "      <td>-0.036300</td>\n",
       "      <td>0.049766</td>\n",
       "      <td>1708</td>\n",
       "      <td>20220209584154</td>\n",
       "      <td>2022年3月期第3四半期決算短信〔日本基準〕（連結）</td>\n",
       "      <td>211153.0</td>\n",
       "    </tr>\n",
       "    <tr>\n",
       "      <th>2022-05-13</th>\n",
       "      <td>249140</td>\n",
       "      <td>244344.0</td>\n",
       "      <td>0.179903</td>\n",
       "      <td>0.043318</td>\n",
       "      <td>0.033244</td>\n",
       "      <td>2978</td>\n",
       "      <td>20220513545453</td>\n",
       "      <td>2022年3月期 決算短信〔日本基準〕（連結）</td>\n",
       "      <td>244344.0</td>\n",
       "    </tr>\n",
       "  </tbody>\n",
       "</table>\n",
       "</div>"
      ],
      "text/plain": [
       "            uriage      pred   achieve   f_score   j_score  word_cnt  \\\n",
       "2017-08-08   59803  211025.0 -0.716607 -0.017162  0.017162       874   \n",
       "2017-11-10  112382  211025.0 -0.467447 -0.002296  0.021814       871   \n",
       "2018-02-09  158274  211025.0 -0.249975 -0.003953  0.027668       759   \n",
       "2018-05-11  230629  265649.0  0.092899  0.025227  0.032291      1982   \n",
       "2018-08-08   57623  265649.0 -0.783086 -0.023077  0.061538       130   \n",
       "2018-11-09  115136  265649.0 -0.566586  0.023148  0.025463       864   \n",
       "2019-02-12  207425  265649.0 -0.219176 -0.026764  0.032847       822   \n",
       "2019-05-10  267980  308650.0  0.008775  0.023121  0.030347      2076   \n",
       "2019-08-09   93252  308650.0 -0.697871 -0.023988  0.026987       667   \n",
       "2019-11-08  162346  308650.0 -0.474013 -0.030973  0.029499       678   \n",
       "2020-02-10  247819  308650.0 -0.197087 -0.017217  0.031564       697   \n",
       "2020-05-14  318822  223685.0  0.032956  0.011850  0.015456      1941   \n",
       "2020-08-11   51018  223685.0 -0.771920 -0.000836  0.015886      1196   \n",
       "2020-11-10   98127  223685.0 -0.561316 -0.039451  0.015437      1166   \n",
       "2021-02-08  150099  223685.0 -0.328972 -0.044739  0.019056      1207   \n",
       "2021-05-13  240078  211153.0  0.073286 -0.010509  0.014147      2474   \n",
       "2021-08-10   50083  211153.0 -0.762812 -0.035647  0.048155      1599   \n",
       "2021-11-09  118507  211153.0 -0.438762 -0.003996  0.045954      2002   \n",
       "2022-02-09  171364  211153.0 -0.188437 -0.036300  0.049766      1708   \n",
       "2022-05-13  249140  244344.0  0.179903  0.043318  0.033244      2978   \n",
       "\n",
       "                  pdf_code                         title  tuki_pred  \n",
       "2017-08-08  20170804448287   平成30年3月期第1四半期決算短信〔日本基準〕（連結）   211025.0  \n",
       "2017-11-10  20171107410918   平成30年3月期第2四半期決算短信〔日本基準〕（連結）   211025.0  \n",
       "2018-02-09  20180201461875   平成30年3月期第3四半期決算短信〔日本基準〕（連結）   211025.0  \n",
       "2018-05-11  20180509430631        平成30年3月期決算短信〔日本基準〕（連結）   265649.0  \n",
       "2018-08-08  20180808494181   平成31年3月期第1四半期決算短信〔日本基準〕（連結）   265649.0  \n",
       "2018-11-09  20181107431549  平成31年3月期 第2四半期決算短信〔日本基準〕（連結）   265649.0  \n",
       "2019-02-12  20190123462606  平成31年3月期 第3四半期決算短信〔日本基準〕（連結）   265649.0  \n",
       "2019-05-10  20190510420023       2019年3月期 決算短信〔日本基準〕（連結）   308650.0  \n",
       "2019-08-09  20190808485187  2020年3月期 第1四半期決算短信〔日本基準〕（連結）   308650.0  \n",
       "2019-11-08  20191108422329  2020年3月期 第2四半期決算短信〔日本基準〕（連結）   308650.0  \n",
       "2020-02-10  20200207460327  2020年3月期 第3四半期決算短信〔日本基準〕（連結）   308650.0  \n",
       "2020-05-14  20200514413721       2020年3月期 決算短信〔日本基準〕（連結）   223685.0  \n",
       "2020-08-11  20200811479144  2021年3月期 第1四半期決算短信〔日本基準〕（連結）   223685.0  \n",
       "2020-11-10  20201110419641  2021年3月期 第2四半期決算短信〔日本基準〕（連結）   223685.0  \n",
       "2021-02-08  20210208457790  2021年3月期 第3四半期決算短信〔日本基準〕（連結）   223685.0  \n",
       "2021-05-13  20210513415706       2021年3月期 決算短信〔日本基準〕（連結）   211153.0  \n",
       "2021-08-10  20210810482225  2022年3月期 第1四半期決算短信〔日本基準〕（連結）   211153.0  \n",
       "2021-11-09  20211109428435  2022年3月期 第2四半期決算短信〔日本基準〕（連結）   211153.0  \n",
       "2022-02-09  20220209584154   2022年3月期第3四半期決算短信〔日本基準〕（連結）   211153.0  \n",
       "2022-05-13  20220513545453       2022年3月期 決算短信〔日本基準〕（連結）   244344.0  "
      ]
     },
     "execution_count": 246,
     "metadata": {},
     "output_type": "execute_result"
    }
   ],
   "source": [
    "company=16620\n",
    "df_path = '../data/new2/df_achieve/this/{}.csv'.format(company)\n",
    "#dfを呼び出し\n",
    "df = pd.read_csv(df_path,index_col=0)\n",
    "df"
   ]
  },
  {
   "cell_type": "code",
   "execution_count": 269,
   "id": "3c5414a6",
   "metadata": {},
   "outputs": [
    {
     "name": "stderr",
     "output_type": "stream",
     "text": [
      "100%|██████████████████████████████████████| 2510/2510 [00:04<00:00, 617.13it/s]\n"
     ]
    }
   ],
   "source": [
    "non_dic={}\n",
    "for company in tqdm.tqdm(company_list.index):\n",
    "    df_path = '../data/new2/df_achieve/this/{}.csv'.format(company)\n",
    "    #dfを呼び出し\n",
    "    df = pd.read_csv(df_path,index_col=0)\n",
    "\n",
    "    #スコアを算出\n",
    "    pos_list=[]\n",
    "    neg_list=[]\n",
    "    \n",
    "    non_dic[company]=[]\n",
    "    #企業の決算短信を一つ一つ見る\n",
    "    for i,code in enumerate(df['pdf_code']):\n",
    "        json_path = '../data/text_data_ver2/text_data_sep/'+str(company)+'/'+str(code)+'.json'\n",
    "        text_path = '../data/text_data_ver2/text_data/'+str(company)+'/'+str(code)+'.txt'\n",
    "        pkl_path = '../data/text_data_ver2/text_mokuzi_data_pre/'+str(company)+'/'+str(code)+'.pkl'\n",
    "        with open(json_path, 'r') as f:\n",
    "            json_load = json.load(f)\n",
    "        \n",
    "        if json_load[\"text\"]==[]:\n",
    "            with open(text_path,'r') as t:\n",
    "                text_load = t.read()\n",
    "            if len(text_load) >100 and \"訂正\" not in df[\"title\"][i]  and \"修正\" not in df[\"title\"][i]:\n",
    "                with open(pkl_path, 'rb') as p:\n",
    "                    pkl_load=pickle.load(p)\n",
    "               # if pkl_load!=[]:\n",
    "                non_dic[company].append(code)"
   ]
  },
  {
   "cell_type": "code",
   "execution_count": 272,
   "id": "2b890784",
   "metadata": {},
   "outputs": [
    {
     "name": "stdout",
     "output_type": "stream",
     "text": [
      "455\n",
      "155\n"
     ]
    }
   ],
   "source": [
    "cnt=0\n",
    "cnt_com=0\n",
    "com_list=[]\n",
    "for com in non_dic.keys():\n",
    "    if non_dic[com]!=[]:\n",
    "        cnt+=len(non_dic[com])\n",
    "        #if len(non_dic[com])>3:\n",
    "            #print(com)\n",
    "        cnt_com+=1\n",
    "        com_list.append(com)\n",
    "            \n",
    "print(cnt)\n",
    "print(cnt_com)"
   ]
  },
  {
   "cell_type": "code",
   "execution_count": 273,
   "id": "f552175f",
   "metadata": {},
   "outputs": [
    {
     "data": {
      "text/plain": [
       "[16620,\n",
       " 17360,\n",
       " 17430,\n",
       " 17800,\n",
       " 18120,\n",
       " 18500,\n",
       " 18690,\n",
       " 18880,\n",
       " 19140,\n",
       " 19260,\n",
       " 19280,\n",
       " 19390,\n",
       " 19420,\n",
       " 19460,\n",
       " 19750,\n",
       " 21620,\n",
       " 21690,\n",
       " 22060,\n",
       " 22670,\n",
       " 23090,\n",
       " 23530,\n",
       " 24830,\n",
       " 25900,\n",
       " 26680,\n",
       " 26700,\n",
       " 26760,\n",
       " 26860,\n",
       " 27220,\n",
       " 27370,\n",
       " 27530,\n",
       " 27760,\n",
       " 28040,\n",
       " 28770,\n",
       " 29230,\n",
       " 31100,\n",
       " 31210,\n",
       " 31660,\n",
       " 33220,\n",
       " 33470,\n",
       " 34070,\n",
       " 34820,\n",
       " 36450,\n",
       " 37700,\n",
       " 38510,\n",
       " 38770,\n",
       " 39000,\n",
       " 39250,\n",
       " 39440,\n",
       " 39610,\n",
       " 39910,\n",
       " 40410,\n",
       " 40470,\n",
       " 40950,\n",
       " 42060,\n",
       " 42120,\n",
       " 42340,\n",
       " 44420,\n",
       " 45210,\n",
       " 45340,\n",
       " 45440,\n",
       " 45530,\n",
       " 46670,\n",
       " 46780,\n",
       " 46850,\n",
       " 47610,\n",
       " 49200,\n",
       " 49940,\n",
       " 53950,\n",
       " 58020,\n",
       " 59150,\n",
       " 59420,\n",
       " 59450,\n",
       " 59470,\n",
       " 59640,\n",
       " 59850,\n",
       " 60810,\n",
       " 62550,\n",
       " 62780,\n",
       " 62890,\n",
       " 63090,\n",
       " 63100,\n",
       " 63190,\n",
       " 63660,\n",
       " 63780,\n",
       " 64000,\n",
       " 64330,\n",
       " 64920,\n",
       " 65180,\n",
       " 66180,\n",
       " 66770,\n",
       " 67180,\n",
       " 67440,\n",
       " 67550,\n",
       " 68090,\n",
       " 70210,\n",
       " 70330,\n",
       " 70590,\n",
       " 72110,\n",
       " 72190,\n",
       " 72240,\n",
       " 72360,\n",
       " 72390,\n",
       " 72690,\n",
       " 73990,\n",
       " 74120,\n",
       " 74380,\n",
       " 75020,\n",
       " 75320,\n",
       " 75550,\n",
       " 75590,\n",
       " 75810,\n",
       " 76060,\n",
       " 76810,\n",
       " 77470,\n",
       " 78360,\n",
       " 78590,\n",
       " 79110,\n",
       " 79230,\n",
       " 79920,\n",
       " 80300,\n",
       " 80350,\n",
       " 81050,\n",
       " 81320,\n",
       " 81350,\n",
       " 81520,\n",
       " 82140,\n",
       " 82490,\n",
       " 82550,\n",
       " 82600,\n",
       " 84250,\n",
       " 85180,\n",
       " 87320,\n",
       " 88440,\n",
       " 88640,\n",
       " 90090,\n",
       " 90210,\n",
       " 90650,\n",
       " 91190,\n",
       " 93120,\n",
       " 93610,\n",
       " 93770,\n",
       " 93850,\n",
       " 94090,\n",
       " 95020,\n",
       " 95060,\n",
       " 95090,\n",
       " 96390,\n",
       " 96580,\n",
       " 97430,\n",
       " 97610,\n",
       " 97760,\n",
       " 97820,\n",
       " 98870,\n",
       " 99130,\n",
       " 99690]"
      ]
     },
     "execution_count": 273,
     "metadata": {},
     "output_type": "execute_result"
    }
   ],
   "source": [
    "com_list"
   ]
  },
  {
   "cell_type": "code",
   "execution_count": 274,
   "id": "ee4efd4b",
   "metadata": {},
   "outputs": [],
   "source": [
    "#保存\n",
    "with open('non_company_list.pkl', 'wb') as p:\n",
    "    pickle.dump(com_list, p)"
   ]
  },
  {
   "cell_type": "code",
   "execution_count": 154,
   "id": "50e2fa4e",
   "metadata": {},
   "outputs": [
    {
     "data": {
      "text/plain": [
       "'平成30年3月期\\u3000第1四半期決算短信〔日本基準〕（連結）'"
      ]
     },
     "execution_count": 154,
     "metadata": {},
     "output_type": "execute_result"
    }
   ],
   "source": [
    "df[\"title\"][0]"
   ]
  },
  {
   "cell_type": "code",
   "execution_count": 49,
   "id": "c5d63544",
   "metadata": {},
   "outputs": [],
   "source": [
    "def normalize(text):\n",
    "    #text = re.sub(r'\\d+', '0', text)\n",
    "    text = re.sub(r'（', '(', text)\n",
    "    text = re.sub(r'）', ')', text)\n",
    "    text = re.sub('．','.',text)\n",
    "    text=re.sub('０','0',text)\n",
    "    text=re.sub('１','1',text)\n",
    "    text=re.sub('２','2',text)\n",
    "    text=re.sub('３','3',text)\n",
    "    text=re.sub('４','4',text)\n",
    "    text=re.sub('５','5',text)\n",
    "    text=re.sub('６','6',text)\n",
    "    text=re.sub('７','7',text)\n",
    "    text=re.sub('８','8',text)\n",
    "    text=re.sub('９','9',text)\n",
    "    return(text)"
   ]
  },
  {
   "cell_type": "code",
   "execution_count": 241,
   "id": "a34e6af7",
   "metadata": {},
   "outputs": [
    {
     "name": "stderr",
     "output_type": "stream",
     "text": [
      "100%|█████████████████████████████████████| 2510/2510 [00:00<00:00, 5400.79it/s]\n"
     ]
    }
   ],
   "source": [
    "for company in tqdm.tqdm(non_dic.keys()):\n",
    "#     company=13320\n",
    "    if non_dic[company]!=[]:\n",
    "        for code in non_dic[company]:\n",
    "            txt_path = '../data/text_data_ver2/text_data/'+str(company)+'/'+str(code)+'.txt'\n",
    "            out_path = '../data/text_data_ver2/text_data_sep/'+str(company)+'/'+str(code)+'.json'\n",
    "            pkl_path = '../data/text_data_ver2/text_mokuzi_data_pre/'+str(company)+'/'+str(code)+'.pkl'\n",
    "\n",
    "            with open(txt_path, 'r') as f:\n",
    "                txt_load = f.read()\n",
    "\n",
    "            with open(pkl_path, 'rb') as p:\n",
    "                pkl_load=pickle.load(p)\n",
    "        \n",
    "        \n",
    "            text_list=[]\n",
    "            text_dic={\"text\":[]}\n",
    "            #kari_dic={}\n",
    "            text=normalize(txt_load)\n",
    "#             if len(text)<3000:\n",
    "#                 continue\n",
    "            kari_text=text\n",
    "            mokuzi_list= pkl_load\n",
    "            true_mokuzi=[]\n",
    "            false_mokuzi=[]\n",
    "            try:\n",
    "                for i,mokuzi in enumerate(mokuzi_list):\n",
    "                    if len(mokuzi)>3:\n",
    "                        kari=mokuzi[0:3]\n",
    "    #                     if \"（\" in kari or \"(\" in kari or \"（\" in kari or kari[0].isdigit() or kari[1].isdigit() or kari[2].isdigit():\n",
    "                        if '\\n' in mokuzi:\n",
    "                            mokuzi= mokuzi.replace('\\n','')\n",
    "                        mokuzi = normalize(mokuzi)\n",
    "                        ind=kari_text.find(mokuzi)\n",
    "                        if ind!=-1:\n",
    "                            #目次があったものは変数に入れておく\n",
    "                            true_mokuzi.append(mokuzi)\n",
    "                            kari_dic={}\n",
    "                            if text_dic[\"text\"]!=[]:\n",
    "                                kari_dic[\"title\"]=true_mokuzi[-2]\n",
    "                                kari_dic[\"text\"]=kari_text[len(true_mokuzi[-2]):ind]\n",
    "                                text_dic[\"text\"].append(kari_dic)\n",
    "                                kari_text=kari_text[ind:]\n",
    "\n",
    "                                #mokuzi_listの最後に来た時の処理\n",
    "                                if mokuzi==mokuzi_list[-1]:\n",
    "                                    kari_dic={}\n",
    "                                    kari_dic[\"title\"]=true_mokuzi[-1]\n",
    "                                    kari_dic[\"text\"]=kari_text[len(true_mokuzi[-1]):]\n",
    "                                    text_dic[\"text\"].append(kari_dic)\n",
    "                                    break\n",
    "\n",
    "                            #false_mokuziに目次があるとき（textのない目次）\n",
    "                                if false_mokuzi!=[]:\n",
    "                                    for non_mokuzi in false_mokuzi:\n",
    "                                        kari_dic={}\n",
    "                                        kari_dic[\"title\"]=non_mokuzi\n",
    "                                        kari_dic[\"text\"]=\"\"\n",
    "                                        text_dic[\"text\"].append(kari_dic)\n",
    "                                    false_mokuzi=[]\n",
    "\n",
    "                            else:\n",
    "                                kari_dic[\"title\"]=\"目次より前\"\n",
    "                                kari_dic[\"text\"]=text[:ind]\n",
    "                                text_dic[\"text\"].append(kari_dic)\n",
    "                                kari_text=text[ind:]\n",
    "                                \n",
    "                                if false_mokuzi!=[]:\n",
    "                                    for non_mokuzi in false_mokuzi:\n",
    "                                        kari_dic={}\n",
    "                                        kari_dic[\"title\"]=non_mokuzi\n",
    "                                        kari_dic[\"text\"]=\"\"\n",
    "                                        text_dic[\"text\"].append(kari_dic)\n",
    "                                    false_mokuzi=[]\n",
    "\n",
    "                        else:\n",
    "                            false_mokuzi.append(mokuzi)\n",
    "                             #mokuzi_listの最後に来た時の処理\n",
    "                            if mokuzi==mokuzi_list[-1]:\n",
    "                                kari_dic={}\n",
    "                                kari_dic[\"title\"]=true_mokuzi[-1]\n",
    "                                kari_dic[\"text\"]=kari_text[len(true_mokuzi[-1]):]\n",
    "                                text_dic[\"text\"].append(kari_dic)\n",
    "                                if false_mokuzi!=[]:\n",
    "                                    for non_mokuzi in false_mokuzi:\n",
    "                                        kari_dic={}\n",
    "                                        kari_dic[\"title\"]=non_mokuzi\n",
    "                                        kari_dic[\"text\"]=\"\"\n",
    "                                        text_dic[\"text\"].append(kari_dic)\n",
    "                                    false_mokuzi=[]\n",
    "                #保存\n",
    "                json_file = open(out_path, 'w')\n",
    "                json.dump(text_dic, json_file, ensure_ascii=False)\n",
    "                json_file.close()\n",
    "            except:\n",
    "                continue\n",
    "                print(company,code)"
   ]
  },
  {
   "cell_type": "code",
   "execution_count": 198,
   "id": "0f96a1d9",
   "metadata": {},
   "outputs": [
    {
     "data": {
      "text/plain": [
       "['\\n', '（４）今後の見通し', '３．連結財務諸表及び主な注記', '（１）連結貸借対照表', '連結損益計算書']"
      ]
     },
     "execution_count": 198,
     "metadata": {},
     "output_type": "execute_result"
    }
   ],
   "source": [
    "mokuzi_list"
   ]
  },
  {
   "cell_type": "code",
   "execution_count": 203,
   "id": "93372b2e",
   "metadata": {},
   "outputs": [
    {
     "data": {
      "text/plain": [
       "'(注)前連結会計期間において営業外収益に表示していた「情報提供料収入」について、当連結会計期間より売上高に組替えて表示しております。\\n。\\n※四半期決算短信は公認会計士又は監査法人の四半期レビューの対象外です※業績予想の適切な利用に関する説明、その他特記事項上記の予想は、本資料発表日現在において入手可能な情報及び将来の業績に影響を与える不確実な要因に係る本資料発表時現在における仮定を前提としています。\\n実際の業績は、今後、様々な要因によって大きく異なる結果となる可能性があります。\\n。\\n(株)文教堂グループホールディングス(9978)平成30年8月期第2四半期決算短信(3)四半期連結財務諸表に関する注記事項(継続企業の前提に関する注記)該当事項はありません。\\n(株主資本の金額に著しい変動があった場合の注記)該当事項はありません。\\n。\\n'"
      ]
     },
     "execution_count": 203,
     "metadata": {},
     "output_type": "execute_result"
    }
   ],
   "source": [
    "text"
   ]
  },
  {
   "cell_type": "code",
   "execution_count": 129,
   "id": "e46dc881",
   "metadata": {},
   "outputs": [
    {
     "data": {
      "text/plain": [
       "{'text': []}"
      ]
     },
     "execution_count": 129,
     "metadata": {},
     "output_type": "execute_result"
    }
   ],
   "source": [
    "text_dic"
   ]
  },
  {
   "cell_type": "code",
   "execution_count": 122,
   "id": "6986eed3",
   "metadata": {},
   "outputs": [
    {
     "data": {
      "text/plain": [
       "'(1)当期の経営成績の概況'"
      ]
     },
     "execution_count": 122,
     "metadata": {},
     "output_type": "execute_result"
    }
   ],
   "source": [
    "text[1732:1745]"
   ]
  },
  {
   "cell_type": "code",
   "execution_count": 127,
   "id": "c7dfd4e4",
   "metadata": {},
   "outputs": [
    {
     "data": {
      "text/plain": [
       "True"
      ]
     },
     "execution_count": 127,
     "metadata": {},
     "output_type": "execute_result"
    }
   ],
   "source": [
    "text[1732:1745]==normalize(false_mokuzi[1])"
   ]
  },
  {
   "cell_type": "code",
   "execution_count": 119,
   "id": "3dc6adeb",
   "metadata": {},
   "outputs": [
    {
     "data": {
      "text/plain": [
       "'（１）当期の経営成績の概況'"
      ]
     },
     "execution_count": 119,
     "metadata": {},
     "output_type": "execute_result"
    }
   ],
   "source": [
    "false_mokuzi[1]"
   ]
  },
  {
   "cell_type": "code",
   "execution_count": 118,
   "id": "d59e9c3e",
   "metadata": {},
   "outputs": [
    {
     "data": {
      "text/plain": [
       "-1"
      ]
     },
     "execution_count": 118,
     "metadata": {},
     "output_type": "execute_result"
    }
   ],
   "source": [
    "text.find(false_mokuzi[1])"
   ]
  },
  {
   "cell_type": "code",
   "execution_count": 36,
   "id": "2191ba32",
   "metadata": {},
   "outputs": [],
   "source": [
    "with open(out_path, 'r') as p:\n",
    "    load=json.load(p)"
   ]
  },
  {
   "cell_type": "code",
   "execution_count": null,
   "id": "ca0f62c9",
   "metadata": {},
   "outputs": [],
   "source": []
  },
  {
   "cell_type": "code",
   "execution_count": null,
   "id": "2144af76",
   "metadata": {},
   "outputs": [],
   "source": []
  },
  {
   "cell_type": "code",
   "execution_count": 256,
   "id": "186e93a6",
   "metadata": {},
   "outputs": [
    {
     "name": "stderr",
     "output_type": "stream",
     "text": [
      "100%|████████████████████████████████████| 2510/2510 [00:00<00:00, 75492.84it/s]"
     ]
    },
    {
     "name": "stdout",
     "output_type": "stream",
     "text": [
      "18120 20170726439285\n",
      "18880 20180503427354\n",
      "19260 20220512543246\n",
      "19390 20180419414831\n",
      "19460 20170620410797\n",
      "26860 20190329498084\n",
      "34070 20180510433416\n",
      "38770 20190430413960\n",
      "40470 20171025498407\n",
      "45210 20200715462975\n",
      "45530 20180507427669\n",
      "63190 20200401488528\n",
      "72110 20210423499419\n",
      "72690 20220425526975\n",
      "76060 20180501425557\n",
      "79110 20180501426187\n",
      "82550 20170628418363\n",
      "82600 20180326497677\n",
      "90210 20210117445172\n",
      "93850 20210709464094\n",
      "95060 20180417413548\n",
      "99130 20170704424702\n"
     ]
    },
    {
     "name": "stderr",
     "output_type": "stream",
     "text": [
      "\n"
     ]
    }
   ],
   "source": [
    "for company in tqdm.tqdm(non_dic.keys()):\n",
    "#      company=45210\n",
    "    if non_dic[company]!=[]:\n",
    "        for code in non_dic[company]:\n",
    "            txt_path = '../data/text_data_ver2/text_data/'+str(company)+'/'+str(code)+'.txt'\n",
    "            out_path = '../data/text_data_ver2/text_data_sep/'+str(company)+'/'+str(code)+'.json'\n",
    "            pkl_path = '../data/text_data_ver2/text_mokuzi_data_pre/'+str(company)+'/'+str(code)+'.pkl'\n",
    "\n",
    "            with open(txt_path, 'r') as f:\n",
    "                txt_load = f.read()\n",
    "\n",
    "            with open(pkl_path, 'rb') as p:\n",
    "                pkl_load=pickle.load(p)\n",
    "            \n",
    "            if len(txt_load)>3000:\n",
    "                print(company,code)\n",
    "                break"
   ]
  },
  {
   "cell_type": "code",
   "execution_count": 264,
   "id": "8802786c",
   "metadata": {},
   "outputs": [],
   "source": [
    "company=18880\n",
    "code = 20170802446109\n",
    "txt_path = '../data/text_data_ver2/text_data/'+str(company)+'/'+str(code)+'.txt'\n",
    "out_path = '../data/text_data_ver2/text_data_sep/'+str(company)+'/'+str(code)+'.json'\n",
    "pkl_path = '../data/text_data_ver2/text_mokuzi_data_pre/'+str(company)+'/'+str(code)+'.pkl'\n",
    "\n",
    "with open(txt_path, 'r') as f:\n",
    "    txt_load = f.read()\n",
    "with open(pkl_path, 'rb') as p:\n",
    "    pkl_load=pickle.load(p)"
   ]
  },
  {
   "cell_type": "code",
   "execution_count": 265,
   "id": "e741ab75",
   "metadata": {
    "scrolled": true
   },
   "outputs": [
    {
     "data": {
      "text/plain": [
       "'（注）直近に公表されている配当予想からの修正の有無：無（注）当社は平成２９年１０月１日を効力発生日として普通株式１０株につき１株の割合で株式併合を実施する予定であるため、平成３０年３月期（予想）の１株当たり期末配当金につきましては、当該株式併合の影響を考慮した金額を記載しています。\\n株式併合考慮前の平成３０年３月期（予想）の１株当たり期末配当金は４円００銭となります。\\n。\\n（注）直近に公表されている業績予想からの修正の有無：無（注）平成３０年３月期の連結業績予想における１株当たり当期純利益につきましては、株式併合の影響を考慮しております。\\n。\\n※四半期決算短信は四半期レビューの対象外です※業績予想の適切な利用に関する説明、その他特記事項（将来に関する記述等についてのご注意）本資料に記載されている業績見通し等の将来に関する記述は、当社が現在入手している情報及び合理的であると判断する一定の前提に基づいており、その達成を当社として約束する趣旨のものではありません。\\nまた、実際の業績等は様々な要因により大きく異なる可能性があります。\\n業績予想の前提となる条件及び業績予想のご利用にあたっての注意事項等については、添付資料Ｐ．２「１．当四半期決算に関する定性的情報（３）連結業績予想などの将来予測情報に関する説明」をご覧ください。\\n（株式併合後の配当及び業績予想について）当社は、平成２９年１０月１日を効力発生日として、普通株式１０株につき１株の割合で株式併合を実施する予定です。\\nまた、株式併合と同日付で、単元株式数の１，０００株から１００株への変更を併せて実施する予定です。\\nなお、株式併合考慮前に換算した平成３０年３月期の配当予想、連結業績予想は以下のとおりとなります。\\n１．平成３０年３月期の配当予想期末４円００銭２．平成３０年３月期の連結業績予想１株当たり当期純利益通期１９円３０銭。\\n１．当四半期決算に関する定性的情報（１）連結経営成績に関する説明当第１四半期連結累計期間におけるわが国経済は、雇用や所得環境の改善が続くなか、各種政策の効果もあって、景気は緩やかな回復基調で推移しました。\\n一方、海外経済の不確実性や米国の政策の動向及び影響等に留意する必要があり、景気の先行きは不透明な状況が続いています。\\n建設業界におきましては、公共投資は底堅さが増し、民間設備投資は企業収益の改善を背景に持ち直すなど、事業環境は堅調に推移しました。\\n当第１四半期連結累計期間におきましては、当社グループの建設事業の手持工事高は増加傾向であり、工事の進捗も順調だったことから売上高は前年同期比２０．９％増の１９６億円となりました。\\nこれにより、損益につきましては、営業利益７億円（前年同期比６億円増加）、経常利益７億円（前年同期比７億円増加）、親会社株主に帰属する四半期純利益６億円（前年同期比５億円増加）となりました。\\n。\\n（２）連結財政状態に関する説明（資産）総資産は前連結会計年度末に比べ６億円減少し、６９０億円となりました。\\n減少の主な理由は現金預金（前連結会計年度末から１１５億円の増加）、受取手形・完成工事未収入金等（前連結会計年度末から１０８億円の減少）及び立替金（前連結会計年度末から２２億円の減少）によるものです。\\n（負債）負債合計は前連結会計年度末に比べ８億円減少し、４５４億円となりました。\\n減少の主な理由は支払手形・工事未払金等（前連結会計年度末から１５億円の減少）によるものです。\\n（純資産）純資産は主に親会社株主に帰属する四半期純利益により前連結会計年度末に比べ２億円増加し２３６億円となりました。\\n（３）連結業績予想などの将来予測情報に関する説明平成２９年５月１２日に公表しました平成３０年３月期の連結業績予想については、変更ありません。\\n。\\n（３）四半期連結財務諸表に関する注記事項（継続企業の前提に関する注記）該当事項はありません。\\n。\\n（株主資本の金額に著しい変動があった場合の注記）該当事項はありません。\\n。\\n'"
      ]
     },
     "execution_count": 265,
     "metadata": {},
     "output_type": "execute_result"
    }
   ],
   "source": [
    "txt_load"
   ]
  },
  {
   "cell_type": "code",
   "execution_count": 266,
   "id": "70ddd0fc",
   "metadata": {},
   "outputs": [
    {
     "data": {
      "text/plain": [
       "['１.',\n",
       " '（',\n",
       " '（',\n",
       " '（',\n",
       " '２',\n",
       " '（',\n",
       " '（',\n",
       " '四半期連結損益計算書',\n",
       " '第',\n",
       " '四半期連結包括利益計算書',\n",
       " '第',\n",
       " '（',\n",
       " '（',\n",
       " '（',\n",
       " '３',\n",
       " '個']"
      ]
     },
     "execution_count": 266,
     "metadata": {},
     "output_type": "execute_result"
    }
   ],
   "source": [
    "pkl_load"
   ]
  },
  {
   "cell_type": "code",
   "execution_count": null,
   "id": "a65ff859",
   "metadata": {},
   "outputs": [],
   "source": []
  },
  {
   "cell_type": "code",
   "execution_count": null,
   "id": "73a4cc22",
   "metadata": {},
   "outputs": [],
   "source": []
  },
  {
   "cell_type": "code",
   "execution_count": null,
   "id": "b236fda0",
   "metadata": {},
   "outputs": [],
   "source": []
  },
  {
   "cell_type": "code",
   "execution_count": 260,
   "id": "16fae778",
   "metadata": {
    "scrolled": true
   },
   "outputs": [],
   "source": [
    "company=17120\n",
    "if non_dic[company]!=[]:\n",
    "    for code in non_dic[company]:\n",
    "        txt_path = '../data/text_data_ver2/text_data/'+str(company)+'/'+str(code)+'.txt'\n",
    "        out_path = '../data/text_data_ver2/text_data_sep/'+str(company)+'/'+str(code)+'.json'\n",
    "        pkl_path = '../data/text_data_ver2/text_mokuzi_data_pre/'+str(company)+'/'+str(code)+'.pkl'\n",
    "\n",
    "        with open(txt_path, 'r') as f:\n",
    "            txt_load = f.read()\n",
    "\n",
    "        with open(pkl_path, 'rb') as p:\n",
    "            pkl_load=pickle.load(p)\n",
    "\n",
    "\n",
    "        text_list=[]\n",
    "        text_dic={\"text\":[]}\n",
    "        #kari_dic={}\n",
    "        text=normalize(txt_load)\n",
    "        kari_text=text\n",
    "        mokuzi_list= pkl_load\n",
    "        true_mokuzi=[]\n",
    "        false_mokuzi=[]\n",
    "        for i,mokuzi in enumerate(mokuzi_list):\n",
    "            if len(mokuzi)>3:\n",
    "                \n",
    "                if '\\n' in mokuzi:\n",
    "                    mokuzi= mokuzi.replace('\\n','')\n",
    "                    mokuzi= mokuzi.replace('目次','')\n",
    "                mokuzi = normalize(mokuzi)\n",
    "                ind=kari_text.find(mokuzi)\n",
    "                print(ind)\n",
    "                if ind!=-1:\n",
    "                    #目次があったものは変数に入れておく\n",
    "                    true_mokuzi.append(mokuzi)\n",
    "                    kari_dic={}\n",
    "                    if text_dic[\"text\"]!=[]:\n",
    "                        kari_dic[\"title\"]=true_mokuzi[-2]\n",
    "                        kari_dic[\"text\"]=kari_text[len(true_mokuzi[-2]):ind]\n",
    "                        text_dic[\"text\"].append(kari_dic)\n",
    "                        kari_text=kari_text[ind:]\n",
    "                 \n",
    "                        #mokuzi_listの最後に来た時の処理\n",
    "                        if mokuzi==mokuzi_list[-1]:\n",
    "                            kari_dic={}\n",
    "                            kari_dic[\"title\"]=true_mokuzi[-1]\n",
    "                            kari_dic[\"text\"]=kari_text[len(true_mokuzi[-1]):]\n",
    "                            text_dic[\"text\"].append(kari_dic)\n",
    "                            break\n",
    "\n",
    "                    #false_mokuziに目次があるとき（textのない目次）\n",
    "                        if false_mokuzi!=[]:\n",
    "                            for non_mokuzi in false_mokuzi:\n",
    "                                kari_dic={}\n",
    "                                kari_dic[\"title\"]=non_mokuzi\n",
    "                                kari_dic[\"text\"]=\"\"\n",
    "                                text_dic[\"text\"].append(kari_dic)\n",
    "                            false_mokuzi=[]\n",
    "\n",
    "                    else:\n",
    "                        kari_dic[\"title\"]=\"目次より前\"\n",
    "                        kari_dic[\"text\"]=text[:ind]\n",
    "                        text_dic[\"text\"].append(kari_dic)\n",
    "                        kari_text=text[ind:]\n",
    "                        \n",
    "                        if false_mokuzi!=[]:\n",
    "                            for non_mokuzi in false_mokuzi:\n",
    "                                kari_dic={}\n",
    "                                kari_dic[\"title\"]=non_mokuzi\n",
    "                                kari_dic[\"text\"]=\"\"\n",
    "                                text_dic[\"text\"].append(kari_dic)\n",
    "                            false_mokuzi=[]\n",
    "\n",
    "                else:\n",
    "                    false_mokuzi.append(mokuzi)\n",
    "                     #mokuzi_listの最後に来た時の処理\n",
    "                    if mokuzi==mokuzi_list[-1]:\n",
    "                        kari_dic={}\n",
    "                        kari_dic[\"title\"]=true_mokuzi[-1]\n",
    "                        kari_dic[\"text\"]=kari_text[len(true_mokuzi[-1]):]\n",
    "                        text_dic[\"text\"].append(kari_dic)\n",
    "                        if false_mokuzi!=[]:\n",
    "                            for non_mokuzi in false_mokuzi:\n",
    "                                kari_dic={}\n",
    "                                kari_dic[\"title\"]=non_mokuzi\n",
    "                                kari_dic[\"text\"]=\"\"\n",
    "                                text_dic[\"text\"].append(kari_dic)\n",
    "                            false_mokuzi=[]"
   ]
  },
  {
   "cell_type": "code",
   "execution_count": null,
   "id": "6d0bc403",
   "metadata": {},
   "outputs": [],
   "source": []
  },
  {
   "cell_type": "code",
   "execution_count": null,
   "id": "78cd1c0a",
   "metadata": {},
   "outputs": [],
   "source": []
  },
  {
   "cell_type": "code",
   "execution_count": 232,
   "id": "4374d5e5",
   "metadata": {},
   "outputs": [
    {
     "data": {
      "text/plain": [
       "['1.経営成績等の状況',\n",
       " '3.連結財務諸表及び主な注記',\n",
       " '(1)連結貸借対照表',\n",
       " '(2)連結損益計算書及び連結包括利益計算書',\n",
       " '連結損益計算書',\n",
       " '連結包括利益計算書',\n",
       " '(3)連結株主資本等変動計算書',\n",
       " '(4)連結キャッシュ・フロー計算書',\n",
       " '(セグメント情報)',\n",
       " '(1株当たり情報)']"
      ]
     },
     "execution_count": 232,
     "metadata": {},
     "output_type": "execute_result"
    }
   ],
   "source": [
    "false_mokuzi"
   ]
  },
  {
   "cell_type": "code",
   "execution_count": 224,
   "id": "f96b8cc4",
   "metadata": {},
   "outputs": [
    {
     "data": {
      "text/plain": [
       "['(1)当期の経営成績の概況',\n",
       " '(2)当期の財政状態の概況',\n",
       " '(4)今後の見通し',\n",
       " '2.会計基準の選択に関する基本的な考え方',\n",
       " '(5)連結財務諸表に関する注記事項',\n",
       " '(継続企業の前提に関する注記)',\n",
       " '(追加情報)',\n",
       " '(重要な後発事象)']"
      ]
     },
     "execution_count": 224,
     "metadata": {},
     "output_type": "execute_result"
    }
   ],
   "source": [
    "true_mokuzi"
   ]
  },
  {
   "cell_type": "code",
   "execution_count": 192,
   "id": "842844ac",
   "metadata": {},
   "outputs": [
    {
     "data": {
      "text/plain": [
       "{}"
      ]
     },
     "execution_count": 192,
     "metadata": {},
     "output_type": "execute_result"
    }
   ],
   "source": [
    "kari_dic"
   ]
  },
  {
   "cell_type": "code",
   "execution_count": null,
   "id": "2acc2735",
   "metadata": {},
   "outputs": [],
   "source": []
  },
  {
   "cell_type": "code",
   "execution_count": null,
   "id": "95bbc645",
   "metadata": {},
   "outputs": [],
   "source": []
  },
  {
   "cell_type": "code",
   "execution_count": null,
   "id": "88ce2235",
   "metadata": {},
   "outputs": [],
   "source": []
  },
  {
   "cell_type": "code",
   "execution_count": null,
   "id": "34aea5cd",
   "metadata": {},
   "outputs": [],
   "source": []
  },
  {
   "cell_type": "code",
   "execution_count": null,
   "id": "a7e0c24d",
   "metadata": {},
   "outputs": [],
   "source": []
  },
  {
   "cell_type": "code",
   "execution_count": null,
   "id": "2cddbede",
   "metadata": {},
   "outputs": [],
   "source": []
  },
  {
   "cell_type": "code",
   "execution_count": null,
   "id": "d3382374",
   "metadata": {},
   "outputs": [],
   "source": []
  },
  {
   "cell_type": "code",
   "execution_count": null,
   "id": "b94a49df",
   "metadata": {},
   "outputs": [],
   "source": []
  },
  {
   "cell_type": "code",
   "execution_count": null,
   "id": "db6a2ab2",
   "metadata": {},
   "outputs": [],
   "source": []
  }
 ],
 "metadata": {
  "kernelspec": {
   "display_name": "Python 3 (ipykernel)",
   "language": "python",
   "name": "python3"
  },
  "language_info": {
   "codemirror_mode": {
    "name": "ipython",
    "version": 3
   },
   "file_extension": ".py",
   "mimetype": "text/x-python",
   "name": "python",
   "nbconvert_exporter": "python",
   "pygments_lexer": "ipython3",
   "version": "3.8.8"
  }
 },
 "nbformat": 4,
 "nbformat_minor": 5
}
