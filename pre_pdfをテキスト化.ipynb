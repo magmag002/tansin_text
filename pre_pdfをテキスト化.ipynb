{
 "cells": [
  {
   "cell_type": "markdown",
   "id": "c56f96a0",
   "metadata": {},
   "source": [
    "- pdfをファイルから読み込み，outファイルに保存をできるようにする"
   ]
  },
  {
   "cell_type": "code",
   "execution_count": 6,
   "id": "a7303903",
   "metadata": {},
   "outputs": [],
   "source": [
    "import subprocess\n",
    "import zenhan\n",
    "import os\n",
    "import sys\n",
    "import re\n",
    "import unicodedata\n",
    "import argparse\n",
    "import tqdm"
   ]
  },
  {
   "cell_type": "code",
   "execution_count": 7,
   "id": "d8a99971",
   "metadata": {},
   "outputs": [],
   "source": [
    "def normalize(sentence):\n",
    "    sentense = unicodedata.normalize('NFKC' , sentence)\n",
    "    sentence = zenhan.h2z(sentense)\n",
    "    sentence = sentence.replace(u' ', u'').replace(u'　', u'' )\n",
    "    sentence = re.sub(\"①\\n\\n\",\"1\",sentence)\n",
    "    #sentence = sentence.replace(u'\\n', u'')\n",
    "    return re.sub(\"\\s*\", u'', sentence)"
   ]
  },
  {
   "cell_type": "code",
   "execution_count": 8,
   "id": "9ad1ea30",
   "metadata": {},
   "outputs": [],
   "source": [
    "def create_text(out,file):\n",
    "    #個別\n",
    "    #out='file/out/company2/rakuten.txt'\n",
    "    #file = 'file/pdf/company2/rakuten.pdf'\n",
    "    line_1 = \"\"\n",
    "    text=\"\"\n",
    "    sentences_list=[]\n",
    "    #print(file)\n",
    "    #print(out)\n",
    "    with open(out,'w') as out:\n",
    "        mat_eol = re.compile(\"\\n\".encode('utf-8'))\n",
    "        #print(fp)\n",
    "        sentences = []\n",
    "        sentence=[]\n",
    "        p = subprocess.run(('pdftotext', file, '-'), stdout = subprocess.PIPE, stderr = subprocess.PIPE)\n",
    "        temp = u\"\"\n",
    "        #print(p.stdout.decode('utf-8'))\n",
    "        for line in mat_eol.split(p.stdout):\n",
    "            try:\n",
    "                line = line.decode('utf-8')\n",
    "            except:\n",
    "                line = \"\"\n",
    "            if line == \"\":\n",
    "                if temp != \"\" and u\"。\" in temp:\n",
    "                    sentences = sentences + re.split(u\"。\", temp)\n",
    "                temp = u\"\"\n",
    "            else:\n",
    "                temp = temp+line\n",
    "\n",
    "        if temp != \"\" and u\"。\" in temp:\n",
    "            sentences = sentences + re.split(u\"。\", temp)\n",
    "            #print(sentences)\n",
    "        #print(sentences)\n",
    "        #sentences = [normalize(line + u\"。\") for line in sentences if len(line) <= 300 and len(line) >+ 3]\n",
    "        for line in sentences :\n",
    "            text=line\n",
    "            if \"①\" in line_1 or \"②\" in line_1 or \"③\" in line_1 or \"④\" in line_1 or \"⑤\" in line_1:\n",
    "                #print(line_1)\n",
    "                text = \"0\" + line\n",
    "            if len(text) <= 300 and len(text) >+ 3:\n",
    "                sentences_list.append(normalize(text + u\"。\"))\n",
    "                #print(text)\n",
    "            line_1 = line\n",
    "            #print(line_1)\n",
    "\n",
    "        for sentence in sentences_list:\n",
    "            #print(sentence)\n",
    "            out.write(sentence+\"\\n\")"
   ]
  },
  {
   "cell_type": "code",
   "execution_count": null,
   "id": "d86274b0",
   "metadata": {},
   "outputs": [],
   "source": [
    "out='file/out/company2/rakuten.txt'\n",
    "file = 'file/pdf/company2/rakuten.pdf'\n",
    "create_text(out,file)"
   ]
  },
  {
   "cell_type": "code",
   "execution_count": null,
   "id": "a61347b8",
   "metadata": {},
   "outputs": [],
   "source": []
  },
  {
   "cell_type": "code",
   "execution_count": 11,
   "id": "e2e01bea",
   "metadata": {},
   "outputs": [],
   "source": [
    "#一括\n",
    "for i in range(0,1):\n",
    "    for j in range(2):\n",
    "        out='file/out/company{}/{}.txt'.format(i+1,j+1)\n",
    "        file = 'file/pdf/company{}/{}.pdf'.format(i+1,j+1)\n",
    "        #print(file)\n",
    "        #print(out)\n",
    "        with open(out,'w') as out:\n",
    "            mat_eol = re.compile(\"\\n\".encode('utf-8'))\n",
    "            #print(fp)\n",
    "            sentences = []\n",
    "            sentence=[]\n",
    "            p = subprocess.run(('pdftotext', file, '-'), stdout = subprocess.PIPE, stderr = subprocess.PIPE)\n",
    "            temp = u\"\"\n",
    "            for line in mat_eol.split(p.stdout):\n",
    "                try:\n",
    "                    line = line.decode('utf-8')\n",
    "                except:\n",
    "                    line = \"\"\n",
    "                if line == \"\":\n",
    "                    if temp != \"\" and u\"。\" in temp:\n",
    "                        sentences = sentences + re.split(u\"。\", temp)\n",
    "                    temp = u\"\"\n",
    "                else:\n",
    "                    temp = temp+line\n",
    "\n",
    "            if temp != \"\" and u\"。\" in temp:\n",
    "                sentences = sentences + re.split(u\"。\", temp)\n",
    "\n",
    "            sentences = [normalize(line + u\"。\")\n",
    "                        for line in sentences if len(line) <= 300 ]#and len(line) >+ 3]\n",
    "            for sentence in sentences:\n",
    "                out.write(sentence+\"\\n\")"
   ]
  },
  {
   "cell_type": "markdown",
   "id": "38d08815",
   "metadata": {},
   "source": [
    "## １０文字以下の場合は丸をつけない\n",
    "- こっちに処理を入れるとひょうとごっちゃになるから却下"
   ]
  },
  {
   "cell_type": "code",
   "execution_count": 3,
   "id": "6d01123d",
   "metadata": {},
   "outputs": [],
   "source": [
    "#個別\n",
    "out='file/out/company2/rakuten.txt'\n",
    "file = 'file/pdf/company2/rakuten.pdf'\n",
    "line_1 = \"\"\n",
    "text=\"\"\n",
    "sentences_list=[]\n",
    "#print(file)\n",
    "#print(out)\n",
    "with open(out,'w') as out:\n",
    "    mat_eol = re.compile(\"\\n\".encode('utf-8'))\n",
    "    #print(fp)\n",
    "    sentences = []\n",
    "    sentence=[]\n",
    "    p = subprocess.run(('pdftotext', file, '-'), stdout = subprocess.PIPE, stderr = subprocess.PIPE)\n",
    "    temp = u\"\"\n",
    "    #print(p.stdout.decode('utf-8'))\n",
    "    for line in mat_eol.split(p.stdout):\n",
    "        try:\n",
    "            line = line.decode('utf-8')\n",
    "        except:\n",
    "            line = \"\"\n",
    "        if line == \"\":\n",
    "            if temp != \"\" and u\"。\" in temp:\n",
    "                sentences = sentences + re.split(u\"。\", temp)\n",
    "            temp = u\"\"\n",
    "        else:\n",
    "            temp = temp+line\n",
    "\n",
    "    if temp != \"\" and u\"。\" in temp:\n",
    "        sentences = sentences + re.split(u\"。\", temp)\n",
    "        #print(sentences)\n",
    "    #print(sentences)\n",
    "    #sentences = [normalize(line + u\"。\") for line in sentences if len(line) <= 300 and len(line) >+ 3]\n",
    "    for line in sentences :\n",
    "        text=line\n",
    "        if \"①\" in line_1 or \"②\" in line_1 or \"③\" in line_1 or \"④\" in line_1 or \"⑤\" in line_1:\n",
    "            #print(line_1)\n",
    "            text = \"0\" + line\n",
    "        if len(text) <= 300 and len(text) >+ 3:\n",
    "            sentences_list.append(normalize(text + u\"。\"))\n",
    "            #print(text)\n",
    "        line_1 = line\n",
    "        #print(line_1)\n",
    "        \n",
    "    for sentence in sentences_list:\n",
    "        #print(sentence)\n",
    "        out.write(sentence+\"\\n\")"
   ]
  },
  {
   "cell_type": "code",
   "execution_count": null,
   "id": "7e2d2be0",
   "metadata": {},
   "outputs": [],
   "source": []
  },
  {
   "cell_type": "markdown",
   "id": "b7858f43",
   "metadata": {},
   "source": [
    "# 目次を使用してのtext変更"
   ]
  },
  {
   "cell_type": "code",
   "execution_count": 9,
   "id": "f66b0ed6",
   "metadata": {},
   "outputs": [],
   "source": [
    "import pandas as pd"
   ]
  },
  {
   "cell_type": "code",
   "execution_count": 10,
   "id": "3a19835f",
   "metadata": {},
   "outputs": [],
   "source": [
    "#企業リストを取得\n",
    "company_list = pd.read_csv(\"../data/new2/df_achieve/company_list.csv\",index_col=0)\n",
    "company_list=company_list.drop(14350)\n",
    "company=13820\n",
    "#company=16620\n",
    "df_path = '../data/new2/df_achieve/this/{}.csv'.format(company)\n",
    "df = pd.read_csv(df_path,index_col=0)\n",
    "mokuzi_path = '../data/text_mokuzi_data_raw/'+str(company)+'/'+str(df[\"pdf_code\"][0])+'.txt'\n",
    "pdf_path = '../data/TDNet_full_data/API_data/'+str(company)+'_g/'+str(company)+'_'+str(df[\"pdf_code\"][0])+'.pdf'"
   ]
  },
  {
   "cell_type": "code",
   "execution_count": 159,
   "id": "ec58d5c0",
   "metadata": {},
   "outputs": [],
   "source": [
    "def text_normalize(text):\n",
    "    text = text.replace('添付資料の目次','')\n",
    "   #text = text.replace('…','')\n",
    "    #text= text.replace('·','')\n",
    "    text= text.replace('○','')\n",
    "    text= text.replace('\\n\\n','')\n",
    "    text= text.replace(' ','')\n",
    "    text= text.replace('\\x0c','')\n",
    "    return(text)"
   ]
  },
  {
   "cell_type": "code",
   "execution_count": 174,
   "id": "a76b4410",
   "metadata": {},
   "outputs": [],
   "source": [
    "with open(mokuzi_path,'r') as t:\n",
    "    text=t.read()"
   ]
  },
  {
   "cell_type": "code",
   "execution_count": 175,
   "id": "bc413eec",
   "metadata": {},
   "outputs": [],
   "source": [
    "text=(text_normalize(text))\n",
    "Flag=False\n",
    "mokuzi=[]\n",
    "mokuzi_start=0\n",
    "flag=False\n",
    "for i,word in enumerate(text):\n",
    "    if not flag:\n",
    "        if word == \"…\" or word == '·' or word == '･':\n",
    "            new_text=text[mokuzi_start:i].replace('\\n','')\n",
    "            mokuzi.append(new_text)\n",
    "            flag=True\n",
    "    \n",
    "    elif flag and word=='\\n':\n",
    "        mokuzi_start=i+1\n",
    "        flag=False"
   ]
  },
  {
   "cell_type": "code",
   "execution_count": 176,
   "id": "18fa3781",
   "metadata": {},
   "outputs": [
    {
     "data": {
      "text/plain": [
       "['１．経営成績等の概況',\n",
       " '（１）当期の経営成績の概況',\n",
       " '（２）当期の財政状態の概況',\n",
       " '（３）当期のキャッシュ・フローの概況',\n",
       " '（４）今後の見通し',\n",
       " '（５）継続企業の前提に関する重要事象等',\n",
       " '２．会計基準の選択に関する基本的な考え方',\n",
       " '３．連結財務諸表及び主な注記',\n",
       " '（１）連結貸借対照表',\n",
       " '（２）連結損益計算書及び連結包括利益計算書',\n",
       " '連結損益計算書',\n",
       " '連結包括利益計算書',\n",
       " '（３）連結株主資本等変動計算書',\n",
       " '（４）連結キャッシュ・フロー計算書',\n",
       " '（５）連結財務諸表に関する注記事項',\n",
       " '（継続企業の前提に関する注記）',\n",
       " '（連結財務諸表作成のための基本となる重要な事項）',\n",
       " '（追加情報）',\n",
       " '（連結貸借対照表関係）',\n",
       " '（連結損益計算書関係）',\n",
       " '（連結包括利益計算書関係）',\n",
       " '（連結株主資本等変動計算書関係）',\n",
       " '（連結キャッシュ・フロー計算書関係）',\n",
       " '（セグメント情報等）',\n",
       " '（１株当たり情報）',\n",
       " '（重要な後発事象）',\n",
       " '４．その他']"
      ]
     },
     "execution_count": 176,
     "metadata": {},
     "output_type": "execute_result"
    }
   ],
   "source": [
    "mokuzi"
   ]
  },
  {
   "cell_type": "code",
   "execution_count": 302,
   "id": "02ab0d49",
   "metadata": {},
   "outputs": [],
   "source": [
    "#個別\n",
    "out='file/out/test.txt'\n",
    "file = pdf_path\n",
    "text=\"\"\n",
    "sentences_list=[]\n",
    "#print(file)\n",
    "#print(out)\n",
    "with open(out,'w') as out:\n",
    "    mat_eol = re.compile(\"\\n\".encode('utf-8'))\n",
    "    #print(fp)\n",
    "    sentences = []\n",
    "    sentence=[]\n",
    "    p = subprocess.run(('pdftotext', file, '-'), stdout = subprocess.PIPE, stderr = subprocess.PIPE)\n",
    "    temp = u\"\"\n",
    "    #print(p.stdout.decode('utf-8'))\n",
    "    for line in mat_eol.split(p.stdout):\n",
    "        try:\n",
    "            line = line.decode('utf-8')\n",
    "        except:\n",
    "            line = \"\"\n",
    "        if line == \"\":\n",
    "            if temp != \"\" and u\"。\" in temp:\n",
    "                sentences = sentences + re.split(u\"。\", temp)\n",
    "            temp = u\"\"\n",
    "        else:\n",
    "            temp = temp+line\n",
    "\n",
    "    if temp != \"\" and u\"。\" in temp:\n",
    "        sentences = sentences + re.split(u\"。\", temp)\n",
    "     \n",
    "    for line in sentences :\n",
    "        text=line\n",
    "\n",
    "        #if len(text) <= 300 and len(text) >+ 3:\n",
    "        #if len(text) > 3:\n",
    "        sentences_list.append(normalize(text + u\"。\"))\n",
    "            #print(text)\n",
    "        \n",
    "    for sentence in sentences_list:\n",
    "        #print(sentence)\n",
    "        out.write(sentence+\"\\n\")"
   ]
  },
  {
   "cell_type": "code",
   "execution_count": 178,
   "id": "69c64f19",
   "metadata": {},
   "outputs": [],
   "source": [
    "out='file/out/test.txt'\n",
    "with open(out,'r') as t:\n",
    "    text = t.read()"
   ]
  },
  {
   "cell_type": "code",
   "execution_count": 179,
   "id": "303053b0",
   "metadata": {},
   "outputs": [],
   "source": [
    "mokuzi_list = mokuzi"
   ]
  },
  {
   "cell_type": "code",
   "execution_count": 180,
   "id": "67ec6e27",
   "metadata": {},
   "outputs": [
    {
     "data": {
      "text/plain": [
       "['１．経営成績等の概況',\n",
       " '（１）当期の経営成績の概況',\n",
       " '（２）当期の財政状態の概況',\n",
       " '（３）当期のキャッシュ・フローの概況',\n",
       " '（４）今後の見通し',\n",
       " '（５）継続企業の前提に関する重要事象等',\n",
       " '２．会計基準の選択に関する基本的な考え方',\n",
       " '３．連結財務諸表及び主な注記',\n",
       " '（１）連結貸借対照表',\n",
       " '（２）連結損益計算書及び連結包括利益計算書',\n",
       " '連結損益計算書',\n",
       " '連結包括利益計算書',\n",
       " '（３）連結株主資本等変動計算書',\n",
       " '（４）連結キャッシュ・フロー計算書',\n",
       " '（５）連結財務諸表に関する注記事項',\n",
       " '（継続企業の前提に関する注記）',\n",
       " '（連結財務諸表作成のための基本となる重要な事項）',\n",
       " '（追加情報）',\n",
       " '（連結貸借対照表関係）',\n",
       " '（連結損益計算書関係）',\n",
       " '（連結包括利益計算書関係）',\n",
       " '（連結株主資本等変動計算書関係）',\n",
       " '（連結キャッシュ・フロー計算書関係）',\n",
       " '（セグメント情報等）',\n",
       " '（１株当たり情報）',\n",
       " '（重要な後発事象）',\n",
       " '４．その他']"
      ]
     },
     "execution_count": 180,
     "metadata": {},
     "output_type": "execute_result"
    }
   ],
   "source": [
    "mokuzi_list"
   ]
  },
  {
   "cell_type": "code",
   "execution_count": 300,
   "id": "2c7015da",
   "metadata": {
    "scrolled": false
   },
   "outputs": [],
   "source": [
    "text_list=[]\n",
    "text_dic={\"text\":[]}\n",
    "#kari_dic={}\n",
    "kari_text=text\n",
    "true_mokuzi=[]\n",
    "false_mokuzi=[]\n",
    "for i,mokuzi in enumerate(mokuzi_list):\n",
    "    ind=kari_text.find(mokuzi)\n",
    "    if ind!=-1:\n",
    "        #目次があったものは変数に入れておく\n",
    "        true_mokuzi.append(mokuzi)\n",
    "        kari_dic={}\n",
    "        if text_dic[\"text\"]!=[]:\n",
    "            kari_dic[\"title\"]=true_mokuzi[-2]\n",
    "            kari_dic[\"text\"]=kari_text[len(true_mokuzi[-2]):ind]\n",
    "            text_dic[\"text\"].append(kari_dic)\n",
    "            kari_text=kari_text[ind:]\n",
    "            \n",
    "            #mokuzi_listの最後に来た時の処理\n",
    "            if mokuzi==mokuzi_list[-1]:\n",
    "                kari_dic={}\n",
    "                kari_dic[\"title\"]=true_mokuzi[-1]\n",
    "                kari_dic[\"text\"]=kari_text[len(true_mokuzi[-1]):ind]\n",
    "                text_dic[\"text\"].append(kari_dic)\n",
    "                break\n",
    "        \n",
    "        #false_mokuziに目次があるとき（textのない目次）\n",
    "            if false_mokuzi!=[]:\n",
    "                for non_mokuzi in false_mokuzi:\n",
    "                    kari_dic={}\n",
    "                    kari_dic[\"title\"]=non_mokuzi\n",
    "                    kari_dic[\"text\"]=\"\"\n",
    "                    text_dic[\"text\"].append(kari_dic)\n",
    "                false_mokuzi=[]\n",
    "        \n",
    "        elif i==0:\n",
    "            kari_dic[\"title\"]=\"目次より前\"\n",
    "            kari_dic[\"text\"]=text[:ind]\n",
    "            text_dic[\"text\"].append(kari_dic)\n",
    "            kari_text=text[ind:]\n",
    "  \n",
    "    else:\n",
    "        false_mokuzi.append(mokuzi)\n"
   ]
  },
  {
   "cell_type": "code",
   "execution_count": 301,
   "id": "2e00fcd4",
   "metadata": {
    "scrolled": true
   },
   "outputs": [
    {
     "data": {
      "text/plain": [
       "{'text': [{'title': '目次より前',\n",
       "   'text': '※決算短信は監査の対象外です※業績予想の適切な利用に関する説明、その他特記事項本資料に記載されている業績見通し等の将来に関する記述は、当社が現在入手している情報及び合理的であると判断する一定の前提に基づいており、その達成を当社として約束する趣旨のものではありません。\\nまた、実際の業績等は様々な要因により大きく異なる可能性があります。\\n業績予想の前提となる条件及び業績予想のご利用にあたっての注意事項等は、添付資料４ページ「'},\n",
       "  {'title': '１．経営成績等の概況', 'text': '（４）今後の見通し」をご覧ください。\\n。\\n１．経営成績等の概況'},\n",
       "  {'title': '（１）当期の経営成績の概況',\n",
       "   'text': '当連結会計年度におけるわが国経済は、政府の経済政策や金融政策を背景に緩やかな回復傾向が見られましたが、アジア新興国の景気減速やイギリスのＥＵ離脱問題、アメリカ新政権の政策の国内景気への影響等により、依然として先行き不透明な状況が続いております。\\nこのような状況の中、主力であるいちご果実・青果事業におきましては、昨年９月の全国的な日照不足を端緒とする天候不順が特に上半期の業績に悪影響を及ぼしました。\\nまた、馬鈴薯事業におきましては、昨年４月の熊本地震、昨年８月の北海道での台風被害による影響を大きく受けた年度となりました。\\nこの結果、当連結会計年度の業績は、売上高は３，７２２，６３０千円（前期比１７．０％減少）、営業損失は１８３，２６９千円（前期は営業損失６８，７５２千円）、経常損失は１７７，０１３千円（前期は経常損失６０，４６６千円）となりました。\\nまた、固定資産の減損損失による特別損失を計上したため、親会社株主に帰属する当期純損失は４０９，４９３千円（前期は親会社株主に帰属する当期純損失１１０，１３３千円）となりました。\\n当連結会計年度の当社グループが営む事業は、いちご果実・青果事業、種苗事業、馬鈴薯事業、運送事業の４事業となっております。\\nセグメントの業績は次のとおりであります。\\n（いちご果実・青果事業）いちご果実・青果事業の主力商品は業務用いちご果実であります。\\n夏秋期は自社品種いちごと輸入いちごを、その後は国産促成いちご（とちおとめ、さがほのかなど）を主に販売しております。\\n当連結会計年度は、自社品種「ペチカプライム」「ペチカサンタ」に加え、新品種「ペチカほのか」（商品名「夏瑞／なつみずき」）の販売を本格的に開始し、いちご果実及びその他青果物の販売拡大に努めてまいりました。\\n夏秋期におきましては、他品種を含めて７月中下旬頃に出荷量がピークを迎えることで、一時的に供給過剰となる傾向があることを想定し、業務用だけでなく、加工用などの新たな販路の開拓を行うとともに、食味の良い新品種「ペチカほのか」（商品名「夏瑞／なつみずき」）を生食用として積極的に販売展開してまいりました。\\nしかしながら、業務用の販売数量の減少と９月の自社品種の出荷数量の落ち込みによって、販売数量の抑制を余儀なくされました。\\nさらに１０，１１月の出荷数量も９月の全国的な日照不足の影響で回復せず、売上高、利益ともに前年を下回りました。\\n最需要期となるクリスマス期におきましては、促成いちごの定植時期となる９月の極端な日照不足が初期生育に影響し、市場への入荷量が例年に比べ少なく、いちご市場相場価格が高騰いたしました。\\nこれにより取引先への販売価格が上昇し、売上高は前年より増加しましたが、クリスマス期以降も小玉サイズを中心に高値傾向は続き、固定価格での販売先に対する利益が大幅に減少いたしました。\\n年明け以降１〜６月の販売数量、売上高はほぼ前年並みとなり、利益については前年に比べ増加いたしましたが、１２月までの利益の落ち込みが累計期間の業績に大きく響く結果となりました。\\nその他青果物につきましては、取扱量の減少により、売上高、利益とも前年を下回ることとなりました。\\nこの結果、当連結会計年度におけるいちご果実・青果事業の売上高は３，１４６，９２４千円（前期比０．１％増加）、営業損失は２９，０１５千円（前期は営業利益９，７１２千円）となりました。\\n（種苗事業）種苗事業は、自社いちご品種の「ペチカプライム」と「ペチカサンタ」に加えて、新品種の「ペチカほのか」と「ペチカエバー」を含めた４品種の種苗を生産販売しております。\\n自社いちご品種苗の販売先となる生産者は、栽培契約に基づいて、生産するいちご果実を当社に出荷しております。\\n当連結会計年度におきましては、新品種「ペチカエバー」の種苗生産販売が始まり、産地栽培指導に一段の力を入れて取り組んでまいりました。\\nしかしながら、生産者の高齢化や後継者不足の影響による栽培休止や規模縮小により、自社品種の種苗販売本数は、前期に比べて約１０％の減少となりました。\\n利益につきましては経費の圧縮に努めたことにより前期を上回りました。\\nこの結果、当連結会計年度における種苗事業の売上高は４２，０４６千円（前期比６．８％減少）、営業利益は８，３３２千円（前期比３０．２％増加）となりました。\\n（馬鈴薯事業）馬鈴薯事業は、主に種馬鈴薯の生産販売、仕入販売と、青果馬鈴薯の仕入販売からなり、主要売上品である種馬鈴薯には、秋から春にかけて販売する春作と夏に販売する秋作の２体系がありますが、そのメインは春作種馬鈴薯です。\\n当連結会計年度は、昨年４月に熊本地震が発生し、さらに北海道が昨年８月に台風や大雨による被害を受けたため、主な馬鈴薯の仕入産地で生産量が減少いたしました。\\nこのために馬鈴薯の仕入を十分に行うことができなかったことに加え、昨年１０月に１００％子会社であった株式会社ジャパンポテトを吸収合併したことによる馬鈴薯事業運営体制変更の影響もあり、売上高、利益ともに前期を下回ることとなりました。\\nこの結果、当連結会計年度における馬鈴薯事業の売上高は４５０，４４２千円（前期比６２．８％減少）、営業損失は１７，０４３千円（前期は営業利益６０，８２２千円）となりました。\\n（運送事業）−２−。\\n運送事業は、株式会社エス・ロジスティックスが行っております。\\n関東圏を中心とした事業展開で、当社の商品配送を中核としつつ、一般荷主からの配送業務受託を積極的に推進して売上増加を図ってまいりました。\\nまた、利益面につきましては、自社配送原価を抑制し、提携業者並びに共同配送業者を効率的かつ積極的に運用することで利益の確保に努めてまいりましたが、当連結会計年度におきましては、荷主のコスト削減の一環とした、配送コースの集約などがあり、売上高、利益を減少させることとなりました。\\nこの結果、当連結会計年度における運送事業の売上高は８３，２１７千円（前期比４．０％減少）、営業利益は１９，５９４千円（前期比５．５％減少）となりました。\\n'},\n",
       "  {'title': '（２）当期の財政状態の概況',\n",
       "   'text': '（流動資産）流動資産は、前連結会計年度末と比較して１５３，６８８千円減少し、当連結会計年度末で７３７，３３４千円となりました。\\nこれは主に現金及び預金が減少したことよるものであります。\\n（固定資産）固定資産は、前連結会計年度末と比較して２００，４６１千円減少し、当連結会計年度末で８３，９１３千円となりました。\\nこれは主に固定資産の減損損失計上に伴い、有形固定資産及び無形固定資産が減少したことによるものであります。\\n（流動負債）流動負債は、前連結会計年度末と比較して３，３３５千円増加し、当連結会計年度末で１８４，１４９千円となりました。\\nこれは主に未払法人税等が減少したものの、１年内返済予定の長期借入金の増加したことによるものであります。\\n（固定負債）固定負債は、前連結会計年度末と比較して５１，４９１千円増加し、当連結会計年度末で１７７，２２３千円となりました。\\nこれは主に長期借入金が増加したことによるものであります。\\n（純資産）純資産は、前連結会計年度末と比較して４０８，９７７千円減少し、当連結会計年度末で４５９，８７４千円となりました。\\nこの結果、自己資本比率は５６．０％になっております。\\n'},\n",
       "  {'title': '（３）当期のキャッシュ・フローの概況',\n",
       "   'text': '当連結会計年度における現金及び現金同等物（以下「資金」という）は、期首残高から１５２，５７５千円減少し、当連結会計年度末現在において３００，０４０千円となりました。\\n当連結会計年度における各キャッシュ・フローの状況とそれらの要因は次のとおりであります。\\n（営業活動によるキャッシュ・フロー）当連結会計年度における営業活動の結果使用した資金は１６５，６７６千円（前期は１５，１７７千円の取得）となりました。\\nこれは主に、減損損失２２９，９４９千円があったものの、税金等調整前当期純損失４０８，０２０千円があったことによるものであります。\\n（投資活動によるキャッシュ・フロー）当連結会計年度における投資活動の結果使用した資金は４８，５４７千円（前期は５，８１５千円の使用）となりました。\\nこれは主に、有形固定資産の取得による支出４３，０７５千円があったことによるものであります。\\n（財務活動によるキャッシュ・フロー）当連結会計年度において財務活動の結果取得した資金は６１，６４７千円（前期は１１，５５１千円の使用）となりました。\\nこれは主に、長期借入による収入６５，０００千円によるものであります。\\nなお、当連結会計年度におけるキャッシュ・フロー指標は下記のとおりであります。\\n項目。\\nインタレスト・カバレッジ・レシオ：営業キャッシュ・フロー／利払い※営業キャッシュ・フローはキャッシュ・フロー計算書の営業活動によるキャッシュ・フローを使用しております。\\n有利子負債は、貸借対照表に計上されている負債のうち利子を支払っている全ての負債を対象としております。\\nまた、利払いにつきましては、キャッシュ・フロー計算書の利息の支払額を使用しております。\\n−３−。\\n※平成２９年６月期の債務償還年数及びインタレスト・カバレッジ・レシオについては、営業キャッシュ・フローがマイナスであるため、記載しておりません。\\n'},\n",
       "  {'title': '（４）今後の見通し',\n",
       "   'text': '今後のわが国経済は、企業業績の改善など回復の兆しが見えるものの、海外景気の下振れ懸念や円安等による物価上昇による個人消費への影響等、先行きの不透明感は継続するものと思われます。\\n次期の見通しは以下のとおりです。\\nいちご果実・青果事業は、引続き自社いちご品種を軸とした利益の確保に努めまてまいります。\\n特に、昨年より本格的に生産販売を開始しております新品種「ペチカほのか（商品名夏瑞／なつみずき）」について、本品種の特長である食味の良さを活かし、従来の業務用としての販売に加え、夏場の生食用市場の開拓を図ります。\\n冬春期においては、前期に引続き、適正な数量の仕入、及び品質向上に向けた仕入体制をより一層強化することで利益の確保に努めます。\\nいちご果実・青果事業の売上高は３，３９８，３５９千円を見込んでおります。\\n種苗事業は、引き続き生産者所得の向上につながる栽培指導を継続し、自社品種既存産地の栽培面積維持に努めることにより、種苗事業の売上高は４５，０６１千円を見込んでおります。\\n馬鈴薯事業は、当社が国内販売権を有している海外オリジナル品種の販売に注力し、青果馬鈴薯の販売を強化することで事業の拡大を目指します。\\nこれにより馬鈴薯事業の売上高は５９６，９０９千円を見込んでおります。\\n運送事業は、新規荷主からの運送受託を拡大することに注力して、収益の維持向上を図ってまいります。\\nこれにより運送事業の売上高は９５，３５６千円を見込んでおります。\\n以上による取組みから、連結売上高は４，１３５，６８６千円（前期比１１．１％増加）、営業利益は６３，９４０千円（前期は営業損失１８３，２６９千円）、経常利益は６３，８２０千円（前期は経常損失１７７，０１３千円）、親会社株主に帰属する当期純利益は４７，９０１千円（前期は親会社株主に帰属する当期純損失４０９，４９３千円）を見込んでおります。\\n。\\n'},\n",
       "  {'title': '（５）継続企業の前提に関する重要事象等',\n",
       "   'text': '当社グループは継続して営業損失及び当期純損失を計上し、継続企業の前提に重要な疑義を生じさせるような状況が存在しております。\\nしかしながら当連結会計年度末において現金及び預金３０１百万円を保有し、また、運転資金の効率的な調達のために主要な取引銀行３行と当座貸越契約を締結するなど、必要な資金枠を確保していることから、資金面に支障はないと判断しております。\\nさらに、以下に示す課題への対処を的確に行うことにより業績黒字化を達成し、当該重要事象等が早期に解消されるよう取り組んでまいります。\\n以上により、継続企業の前提に関する重要な不確実性は認められないと判断し、連結財務諸表等への注記は記載しておりません。\\n１夏秋いちごの新品種展開当社は、夏秋期において自社いちご品種販売を中心にしております。\\n平成２６年には、新品種２品種（「ペチカほのか」・「ペチカエバー」）の品種登録申請を行い、平成２９年に品種登録を完了いたしました。\\n近年、他品種を含めた夏秋いちごの栽培面積が全国的に拡大したことにより、出荷量がピークを迎える７月下旬頃に一時的に供給過剰となる傾向が続いております。\\nこの状況を受け、業務用途以外の新たな販路の開拓を課題としておりました。\\n新品種「ペチカほのか」は、平成２８年より本格的に生産が始まり、北海道で生産されたものを商品名「夏瑞／なつみずき」として販売を開始しております。\\n本品種は食味の良さが最大の特長で、これまでになかった夏場の生食用市場を開拓できる画期的な品種であります。\\nこの特長を活かし、業務用に加え、夏秋期の生食用市場の開拓並びに「夏瑞／なつみずき」のブランド力の向上に努めてまいります。\\n新品種「ペチカエバー」は商品名を「コア」とし、平成２９年より本格的に生産を開始しております。\\n本品種は収量性が高く、本品種の導入により、促成いちごとの端境期及び夏秋いちごの品薄となる時期の出荷量の確保を図ります。\\n今後はこの新品種２品種を展開することで、夏秋期におけるいちご果実の収益確保に繋げてまいります。\\nまた、促成いちご販売時期においては、適正な数量の仕入、及び品質向上に向けた仕入体制をより一層強化し、利益の改善を図ります。\\nさらに、顧客への配送の効率化を図ることで運送費を削減し、事業全体としての利益の確保に努めます。\\n２種苗事業の収益拡大これまで夏秋期に生産されるいちごは主に業務用として使用され、冬春期のように生食用の市場はほとんどなく、また生食用に適する品種は存在しませんでした。\\n新品種「ペチカほのか」はこれまでの夏秋いちごにはない食味の良さを有していることから、従来の業務用の産地に加え、生食用を主体とした産地展開を図ることによって、種苗事業の収益拡大に努めてまいります。\\n３馬鈴薯事業における海外オリジナル品種の販売拡大馬鈴薯事業においては、種馬鈴薯の生産販売及び仕入販売と、青果馬鈴薯の仕入販売を行っております。\\n当社が国内販売権を有している海外オリジナル品種は、国内の一般品種とは異なる食味や色、加工適性といった特長を持つものの、栽培面積が未だ少ない状況であります。\\n当社はこの海外オリジナル品種の生産地を拡大し、特に青果馬鈴薯の販売を強化することによって一般消費者に対する知名度を向上させ、種馬鈴薯の販売拡大に繋げてまいります。\\n４運送事業の収益の維持向上運送事業を行う子会社「株式会社エス・ロジスティックス」は、営業基盤を関東圏に特化し、配送業務の効率化により、収益の確保に努めてまいりました。\\n今後も、自社配送と提携業者配送を効率的に運用することに加え、新規荷主からの運送受託に向けた営業をより一層強化して、収益の維持向上を図ってまいります。\\n５人材の育成について当社の事業は、農業に密接に関わっております。\\n近年の気象条件等の自然環境は変化しており、その影響を軽減するためには、机上の学習だけではなく、経験をとおして学ぶことが重要であります。\\n当社では、いちご果実の生産指導を生産者に対し行っていることから、事業経験をとおして社内に蓄積されるノウハウや技術を共有・継承することで、今後も優秀な人材の育成に努めていく方針であります。\\n。\\n'},\n",
       "  {'title': '２．会計基準の選択に関する基本的な考え方',\n",
       "   'text': '当社グループは、連結財務諸表の期間比較可能性及び企業間の比較可能性を確保するため、当面は日本基準で連結財務諸表を作成する方針であります。\\nなお、国際財務報告基準の適用につきましては、国内外の諸情勢を考慮の上、適切に対応していく方針であります。\\n。\\n'},\n",
       "  {'title': '３．連結財務諸表及び主な注記', 'text': ''},\n",
       "  {'title': '（１）連結貸借対照表', 'text': ''},\n",
       "  {'title': '（２）連結損益計算書及び連結包括利益計算書', 'text': ''},\n",
       "  {'title': '連結損益計算書', 'text': ''},\n",
       "  {'title': '連結包括利益計算書', 'text': ''},\n",
       "  {'title': '（３）連結株主資本等変動計算書', 'text': ''},\n",
       "  {'title': '（４）連結キャッシュ・フロー計算書', 'text': ''},\n",
       "  {'title': '（５）連結財務諸表に関する注記事項', 'text': ''},\n",
       "  {'title': '（継続企業の前提に関する注記）', 'text': '該当事項はありません。\\n'},\n",
       "  {'title': '（連結財務諸表作成のための基本となる重要な事項）',\n",
       "   'text': '１．連結の範囲に関する事項全ての子会社を連結しております。\\n（１）連結子会社の数１社（２）連結子会社の名称株式会社エス・ロジスティックスなお、前連結会計年度において連結子会社でありました株式会社ホーブ２１及び株式会社ジャパンポテトは、平成２８年１０月１日付で吸収合併したため、連結の範囲から除いております。\\n２．持分法の適用に関する事項該当事項はありません。\\n３．連結子会社の事業年度等に関する事項すべての連結子会社の決算日は、連結決算日と一致しております。\\n４．会計方針に関する事項（１）重要な資産の評価基準及び評価方法１有価証券その他有価証券時価のあるもの決算日の市場価格等に基づく時価法（評価差額は全部純資産直入法により処理し、売却原価は移動平均法により算定）を採用しております。\\n時価のないもの移動平均法による原価法を採用しております。\\n２たな卸資産商品主として個別法による原価法（貸借対照表価額については収益性の低下に基づく簿価切下げの方法により算定）を採用しております。\\n製品・原材料・仕掛品・貯蔵品移動平均法による原価法（貸借対照表価額については収益性の低下に基づく簿価切下げの方法により算定）を採用しております。\\n（２）重要な減価償却資産の減価償却の方法１有形固定資産（リース資産を除く）主として定率法を採用しております。\\nただし、平成１０年４月１日以降に取得した建物（附属設備を除く）並びに平成２８年４月１日以降に取得した建物附属設備及び構築物については、定額法を採用しております。\\nなお、主な耐用年数は次のとおりであります。\\n建物及び構築物機械装置及び運搬具。\\n２無形固定資産（リース資産を除く）定額法を採用しております。\\nなお、ソフトウェア（自社利用）については、社内における見込利用可能期間（５年）に基づいております。\\n。\\n（３）重要な引当金の計上基準１貸倒引当金債権の貸倒れによる損失に備えるため、当社及び連結子会社は一般債権については貸倒実績率により、貸倒懸念債権等特定の債権については個別に回収可能性を勘案し、回収不能見込額を計上しております。\\n２役員退職慰労引当金役員の退職慰労金の支出に備えるため、当社は内規に基づく当連結会計年度末要支給額を計上しております。\\n（４）退職給付に係る会計処理の方法当社及び連結子会社は、退職給付に係る負債及び退職給付費用の計算上、退職給付に係る期末自己都合要支給額を退職給付債務とする方法を用いた簡便法を適用しております。\\n（５）のれんの償却方法及び償却期間１０年間の定額法により償却しております。\\n（６）連結キャッシュ・フロー計算書における資金の範囲手許現金、随時引き出し可能な預金及び容易に換金可能であり、かつ、価値の変動について僅少なリスクしか負わない取得日から３ヶ月以内に償還期限の到来する短期投資からなっております。\\n（７）その他連結財務諸表作成のための重要な事項消費税等の会計処理消費税等の会計処理は、税抜方式によっております。\\n'},\n",
       "  {'title': '（追加情報）',\n",
       "   'text': '（繰延税金資産の回収可能性に関する適用指針の適用）「繰延税金資産の回収可能性に関する適用指針」（企業会計基準適用指針第２６号連結会計年度から適用しております。\\n。\\n営業保証等として担保に供している資産は、次のとおりであります。\\n前連結会計年度（平成２８年６月３０日）。\\nたな卸資産の内訳は、次のとおりであります。\\n前連結会計年度（平成２８年６月３０日）。\\n有形固定資産の減損損失累計額は、減価償却累計額に含めて表示しております。\\n。\\n当社は、運転資金の効率的な調達を行うため前連結会計年度及び当連結会計年度において取引銀行３行と当座貸越契約を締結しております。\\nこれらの契約に基づく連結会計年度末の借入未実行残高は次のとおりであります。\\n前連結会計年度（平成２８年６月３０日）。\\n固定資産売却益の内容は次のとおりであります。\\n前連結会計年度（自平成２７年７月１日至平成２８年６月３０日）機械装置及び運搬具−千円固定資産売却損の内容は次のとおりであります。\\n前連結会計年度（自平成２７年７月１日至平成２８年６月３０日）機械装置及び運搬具−千円。\\n固定資産除却損の内容は次のとおりであります。\\n前連結会計年度（自平成２７年７月１日至平成２８年６月３０日）建物及び構築物−千円機械装置及び運搬具４千円その他。\\n当連結会計年度において、当社グループは以下の資産グループについて減損損失を計上しました。\\n場所全社（北海道上川郡、北海道空知郡）。\\n当社グループは、原則として継続的に収支の把握を行っている管理会計上の区分を考慮し資産のグルーピングを行っており、本社設備等その他の資産については共用資産としております。\\n当連結会計年度において、グルーピングの単位である各事業部においては、減損の兆候がありませんでしたが、本社を含むより大きな単位では、減損の兆候が認められたため、帳簿価額を回収可能価額まで減額し、当該減少額を減損損失（２２９，９４９千円）として特別損失に計上しました。\\nその内訳は、建物及び構築物１０６，６６５千円、機械装置及び運搬具６６，３３１千円、土地３２，７１１千円、のれん１８，１５６千円、その他６，０８３千円であります。\\nなお、本社を含むより大きな単位の回収可能価額は正味売却価額により測定しており、土地については不動産鑑定評価額により評価しております。\\n。\\n（２）基準日が当連結会計年度に属する配当のうち、配当の効力発生日が翌連結会計年度となるもの該当事項はありません。\\n当連結会計年度（自平成２８年７月１日至平成２９年６月３０日）１．発行済株式の種類及び総数並びに自己株式の種類及び株式数に関する事項当連結会計年度期首株当連結会計年度増加株当連結会計年度減少株当連結会計年度末株式式数（株）式数（株）式数（株）数（株）発行済株式普通株式合計。\\n（注）自己株式の株式数の増加７１株は、単元未満株式の買取りによる増加分であります。\\n２．配当に関する事項（１）配当金支払額該当事項はありません。\\n（２）基準日が当連結会計年度に属する配当のうち、配当の効力発生日が翌連結会計年度となるもの該当事項はありません。\\n。\\n'},\n",
       "  {'title': '（連結貸借対照表関係）', 'text': ''},\n",
       "  {'title': '（連結損益計算書関係）', 'text': ''},\n",
       "  {'title': '（連結包括利益計算書関係）', 'text': ''},\n",
       "  {'title': '（連結株主資本等変動計算書関係）', 'text': ''},\n",
       "  {'title': '（連結キャッシュ・フロー計算書関係）', 'text': ''},\n",
       "  {'title': '（セグメント情報等）',\n",
       "   'text': '【セグメント情報】１．報告セグメントの概要当社グループの報告セグメントは、当社グループの構成単位のうち分離された財務情報が入手可能であり、取締役会が、経営資源の配分の決定及び業績を評価するために、定期的に検討を行う対象となっているものであります。\\n当社グループのうち、親会社（提出会社）は、製品・サービス別の事業本部を置き、各事業本部において取扱う製品・サービスについて包括的な戦略を立案し、事業活動を展開しております。\\nまた、連結子会社は、独立した経営単位であります。\\n従って、当社グループは、事業本部を基礎とした製品・サービス別のセグメントと、連結子会社におけるセグメントから構成されており、「いちご果実・青果事業」「種苗事業」「馬鈴薯事業」及び「運送事業」の４つを報告セグメントとしております。\\n「いちご果実・青果事業」は、いちご果実（自社品種いちご果実・その他いちご果実）、いちご果実以外の青果及び農業用生産・出荷資材の仕入販売を行っております。\\n「種苗事業」は、自社品種いちご苗やその他の種苗の生産販売を行っております。\\n「馬鈴薯事業」は、種馬鈴薯の生産販売及び仕入販売、青果馬鈴薯の仕入販売を行っております。\\n「運送事業」は、配送業務を行っております。\\n２．報告セグメントごとの売上高、利益又は損失、資産、負債その他の項目の金額の算定方法報告されているセグメントの会計処理の方法は、「連結財務諸表作成のための基本となる重要な事項」における記載と同一であります。\\n報告セグメントの利益は、営業利益の数値であります。\\nセグメント間の内部売上高及び振替高は主に市場価格や製造原価に基づいております。\\n。\\n（注）１．セグメント利益の調整額△１６６，４３１千円には、セグメント間取引消去２２８千円、各報告セグメントに配分していない全社費用△１６６，６５９千円が含まれております。\\n全社費用は、主に報告セグメントに帰属しない一般管理費及び研究開発費であります。\\nセグメント資産の調整額２８４，８９１千円には、セグメント間債権消去△３１１，９８３千円、各報告セグメントに配分していない全社資産５９６，８７４千円が含まれております。\\n全社資産は、親会社での余剰運用資金（現金及び預金）及び管理部門に係る資産等です。\\n２．セグメント利益は、連結財務諸表の営業損失と調整を行っております。\\n当連結会計年度（自。\\n（注）１．セグメント利益の調整額△１６５，１３７千円には、セグメント間取引消去５千円、各報告セグメントに配分していない全社費用△１６５，１４３千円が含まれております。\\n全社費用は、主に報告セグメントに帰属しない一般管理費及び研究開発費であります。\\nセグメント資産の調整額２８３，９１１千円には、セグメント間債権消去△２５，２８０千円、各報告セグメントに配分していない全社資産３０９，１９２千円が含まれております。\\n全社資産は、親会社での余剰運用資金（現金及び預金）及び管理部門に係る資産等です。\\n２．セグメント利益は、連結財務諸表の営業損失と調整を行っております。\\n。\\n報告セグメントと同一区分のため、記載を省略しております。\\n２．地域ごとの情報（１）売上高海外売上高がないため、記載を省略しております。\\n（２）有形固定資産海外に所在している有形固定資産がないため、記載を省略しております。\\n３．主要な顧客ごとの情報該当事項はありません。\\n当連結会計年度（自。\\n１．製品及びサービスごとの情報報告セグメントと同一区分のため、記載を省略しております。\\n２．地域ごとの情報（１）売上高海外売上高がないため、記載を省略しております。\\n（２）有形固定資産海外に所在している有形固定資産がないため、記載を省略しております。\\n３．主要な顧客ごとの情報該当事項はありません。\\n【報告セグメントごとの固定資産の減損損失に関する情報】前連結会計年度（自平成２７年７月１日至平成２８年６月３０日）該当事項はありません。\\n当連結会計年度（自。\\n減損損失７４，４５７９３，６１２２４，４５９−３７，４１９（注）「全社・消去」の金額は、セグメントに帰属しない全社資産に係る減損損失であります。\\n。\\n【報告セグメントごとの負ののれん発生益に関する情報】該当事項はありません。\\n。\\n（注）１．潜在株式調整後１株当たり当期純利益金額については、１株当たり当期純損失金額であり、また、潜在株式が存在しないため記載しておりません。\\n２．１株当たり当期純損失金額の算定上の基礎は、以下のとおりであります。\\n項目。\\n親会社株主に帰属する当期純損失金額（△）（千円）普通株主に帰属しない金額（千円）普通株式に係る親会社株主に帰属する当期純損失金額（△）（千円）期中平均株式数（株）'},\n",
       "  {'title': '（１株当たり情報）', 'text': ''},\n",
       "  {'title': '（重要な後発事象）', 'text': '該当事項はありません。\\n。\\n'},\n",
       "  {'title': '４．その他', 'text': '該当事項はありません。\\n。\\n'}]}"
      ]
     },
     "execution_count": 301,
     "metadata": {},
     "output_type": "execute_result"
    }
   ],
   "source": [
    "text_dic"
   ]
  },
  {
   "cell_type": "code",
   "execution_count": 247,
   "id": "ea6864a9",
   "metadata": {},
   "outputs": [
    {
     "data": {
      "text/plain": [
       "3823"
      ]
     },
     "execution_count": 247,
     "metadata": {},
     "output_type": "execute_result"
    }
   ],
   "source": [
    "kari_text.find(mokuzi_list[6])"
   ]
  },
  {
   "cell_type": "markdown",
   "id": "d3b0e26a",
   "metadata": {},
   "source": [
    "### 全てを回す"
   ]
  },
  {
   "cell_type": "code",
   "execution_count": 4,
   "id": "e8ae931d",
   "metadata": {},
   "outputs": [],
   "source": [
    "import os"
   ]
  },
  {
   "cell_type": "code",
   "execution_count": 12,
   "id": "10809a4e",
   "metadata": {},
   "outputs": [
    {
     "name": "stdout",
     "output_type": "stream",
     "text": [
      "['20200727467161.txt', '20220119569653.txt', '20190723474600.txt', '20211019413422.txt', '20220415522807.txt', '20170619410034.txt', '20210125447951.txt', '20191021410184.txt', '20200424499259.txt', '20171215436591.txt', '20180921409376.txt', '20200128451449.txt', '20180627471686.txt', '20190510420409.txt', '20210423498870.txt', '20201023407472.txt', '20180402403415.txt', '20210708463685.txt', '20170905468428.txt', '20190125463477.txt']\n"
     ]
    }
   ],
   "source": []
  },
  {
   "cell_type": "code",
   "execution_count": null,
   "id": "aae04f5a",
   "metadata": {},
   "outputs": [],
   "source": []
  },
  {
   "cell_type": "code",
   "execution_count": 307,
   "id": "1c53dcc6",
   "metadata": {},
   "outputs": [
    {
     "name": "stderr",
     "output_type": "stream",
     "text": [
      "100%|█████████████████████████████████████| 2512/2512 [1:02:29<00:00,  1.49s/it]\n"
     ]
    }
   ],
   "source": [
    "#全てを回す\n",
    "for company in tqdm.tqdm(company_list.index):\n",
    "    df_path = '../data/new2/df_achieve/this/{}.csv'.format(company)\n",
    "    df = pd.read_csv(df_path,index_col=0)\n",
    "    dic =  '../data/text_data_ver2/text_data/'+str(company)\n",
    "    \n",
    "    #フォルダを作成する\n",
    "    try:\n",
    "        os.makedirs(dic)\n",
    "    except FileExistsError:\n",
    "        pass\n",
    "    \n",
    "    #企業ごとで回す\n",
    "    for ind in df.index:\n",
    "        pdf_path='../data/TDNet_full_data/API_data/'+str(company)+'_g/'+str(company)+'_'+str(df[\"pdf_code\"][ind])+'.pdf'\n",
    "        out = '../data/text_data_ver2/text_data/'+str(company)+'/'+str(df[\"pdf_code\"][ind])+'.txt'\n",
    "    \n",
    "      #textに変換\n",
    "        file = pdf_path\n",
    "        text=\"\"\n",
    "        sentences_list=[]\n",
    "        #print(file)\n",
    "        #print(out)\n",
    "        with open(out,'w') as out:\n",
    "            mat_eol = re.compile(\"\\n\".encode('utf-8'))\n",
    "            #print(fp)\n",
    "            sentences = []\n",
    "            sentence=[]\n",
    "            p = subprocess.run(('pdftotext', file, '-'), stdout = subprocess.PIPE, stderr = subprocess.PIPE)\n",
    "            temp = u\"\"\n",
    "            #print(p.stdout.decode('utf-8'))\n",
    "            for line in mat_eol.split(p.stdout):\n",
    "                try:\n",
    "                    line = line.decode('utf-8')\n",
    "                except:\n",
    "                    line = \"\"\n",
    "                if line == \"\":\n",
    "                    if temp != \"\" and u\"。\" in temp:\n",
    "                        sentences = sentences + re.split(u\"。\", temp)\n",
    "                    temp = u\"\"\n",
    "                else:\n",
    "                    temp = temp+line\n",
    "\n",
    "            if temp != \"\" and u\"。\" in temp:\n",
    "                sentences = sentences + re.split(u\"。\", temp)\n",
    "\n",
    "            for line in sentences :\n",
    "                text=line\n",
    "\n",
    "                #if len(text) <= 300 and len(text) >+ 3:\n",
    "                #if len(text) > 3:\n",
    "                sentences_list.append(normalize(text + u\"。\"))\n",
    "                    #print(text)\n",
    "\n",
    "            for sentence in sentences_list:\n",
    "                #print(sentence)\n",
    "                out.write(sentence+\"\\n\")\n",
    "    #break"
   ]
  },
  {
   "cell_type": "code",
   "execution_count": 308,
   "id": "4baf2815",
   "metadata": {},
   "outputs": [
    {
     "ename": "FileNotFoundError",
     "evalue": "[Errno 2] No such file or directory: 'end.jpg'",
     "output_type": "error",
     "traceback": [
      "\u001b[0;31m---------------------------------------------------------------------------\u001b[0m",
      "\u001b[0;31mFileNotFoundError\u001b[0m                         Traceback (most recent call last)",
      "\u001b[0;32m/var/folders/qy/f6zr5vlj65lg32yldm97ynkw0000gn/T/ipykernel_12183/1025603164.py\u001b[0m in \u001b[0;36m<module>\u001b[0;34m\u001b[0m\n\u001b[1;32m     18\u001b[0m \u001b[0;34m\u001b[0m\u001b[0m\n\u001b[1;32m     19\u001b[0m \u001b[0;32mif\u001b[0m \u001b[0m__name__\u001b[0m \u001b[0;34m==\u001b[0m \u001b[0;34m'__main__'\u001b[0m\u001b[0;34m:\u001b[0m\u001b[0;34m\u001b[0m\u001b[0;34m\u001b[0m\u001b[0m\n\u001b[0;32m---> 20\u001b[0;31m     \u001b[0mmain\u001b[0m\u001b[0;34m(\u001b[0m\u001b[0;34m)\u001b[0m\u001b[0;34m\u001b[0m\u001b[0;34m\u001b[0m\u001b[0m\n\u001b[0m",
      "\u001b[0;32m/var/folders/qy/f6zr5vlj65lg32yldm97ynkw0000gn/T/ipykernel_12183/1025603164.py\u001b[0m in \u001b[0;36mmain\u001b[0;34m()\u001b[0m\n\u001b[1;32m     13\u001b[0m         \u001b[0mmessage\u001b[0m \u001b[0;34m=\u001b[0m \u001b[0;34m'異常終了'\u001b[0m\u001b[0;34m\u001b[0m\u001b[0;34m\u001b[0m\u001b[0m\n\u001b[1;32m     14\u001b[0m     \u001b[0mpayload\u001b[0m \u001b[0;34m=\u001b[0m \u001b[0;34m{\u001b[0m\u001b[0;34m\"message\"\u001b[0m \u001b[0;34m:\u001b[0m  \u001b[0mmessage\u001b[0m\u001b[0;34m}\u001b[0m\u001b[0;34m\u001b[0m\u001b[0;34m\u001b[0m\u001b[0m\n\u001b[0;32m---> 15\u001b[0;31m     \u001b[0mfiles\u001b[0m \u001b[0;34m=\u001b[0m \u001b[0;34m{\u001b[0m\u001b[0;34m\"imageFile\"\u001b[0m\u001b[0;34m:\u001b[0m \u001b[0mopen\u001b[0m\u001b[0;34m(\u001b[0m\u001b[0;34m\"end.jpg\"\u001b[0m\u001b[0;34m,\u001b[0m \u001b[0;34m\"rb\"\u001b[0m\u001b[0;34m)\u001b[0m\u001b[0;34m}\u001b[0m\u001b[0;34m\u001b[0m\u001b[0;34m\u001b[0m\u001b[0m\n\u001b[0m\u001b[1;32m     16\u001b[0m \u001b[0;34m\u001b[0m\u001b[0m\n\u001b[1;32m     17\u001b[0m     \u001b[0mr\u001b[0m \u001b[0;34m=\u001b[0m \u001b[0mrequests\u001b[0m\u001b[0;34m.\u001b[0m\u001b[0mpost\u001b[0m\u001b[0;34m(\u001b[0m\u001b[0murl\u001b[0m \u001b[0;34m,\u001b[0m\u001b[0mheaders\u001b[0m \u001b[0;34m=\u001b[0m \u001b[0mheaders\u001b[0m \u001b[0;34m,\u001b[0m\u001b[0mparams\u001b[0m\u001b[0;34m=\u001b[0m\u001b[0mpayload\u001b[0m\u001b[0;34m,\u001b[0m \u001b[0mfiles\u001b[0m\u001b[0;34m=\u001b[0m\u001b[0mfiles\u001b[0m\u001b[0;34m)\u001b[0m\u001b[0;34m\u001b[0m\u001b[0;34m\u001b[0m\u001b[0m\n",
      "\u001b[0;31mFileNotFoundError\u001b[0m: [Errno 2] No such file or directory: 'end.jpg'"
     ]
    }
   ],
   "source": [
    "import requests\n",
    "import sys\n",
    "\n",
    "def main():\n",
    "    url = \"https://notify-api.line.me/api/notify\"\n",
    "    token = 'i8A6mltzBKu1Y2AJmiWz5l2SZpKacBRAbr7RWoCHJuI'\n",
    "    headers = {\"Authorization\" : \"Bearer \"+ token}\n",
    "\n",
    "    args = sys.argv\n",
    "    if args[0] == 1:\n",
    "        message =  '通常終了'\n",
    "    else :\n",
    "        message = '異常終了'\n",
    "    payload = {\"message\" :  message}\n",
    "    files = {\"imageFile\": open(\"end.jpg\", \"rb\")}\n",
    "\n",
    "    r = requests.post(url ,headers = headers ,params=payload, files=files)\n",
    "\n",
    "if __name__ == '__main__':\n",
    "    main()"
   ]
  },
  {
   "cell_type": "code",
   "execution_count": 23,
   "id": "e5622181",
   "metadata": {},
   "outputs": [
    {
     "name": "stderr",
     "output_type": "stream",
     "text": [
      "100%|███████████████████████████████████████| 2512/2512 [00:28<00:00, 87.76it/s]\n"
     ]
    }
   ],
   "source": [
    "#全てを回す(indexを取得だとエラーがあるため)\n",
    "for company in tqdm.tqdm(company_list.index):\n",
    "    df_path = '../data/new2/df_achieve/this/{}.csv'.format(company)\n",
    "    df = pd.read_csv(df_path,index_col=0)\n",
    "    dic =  '../data/text_data_ver2/text_data/'+str(company)\n",
    "   \n",
    "    folderfile = os.listdir(dic)\n",
    "\n",
    "    #企業ごとで回す\n",
    "    for code in df[\"pdf_code\"]:\n",
    "        file_name = str(code)+'.txt'\n",
    "        if file_name in folderfile:\n",
    "            pass\n",
    "        else:\n",
    "            pdf_path='../data/TDNet_full_data/API_data/'+str(company)+'_g/'+str(company)+'_'+str(code)+'.pdf'\n",
    "            out = '../data/text_data_ver2/text_data/'+str(company)+'/'+str(code)+'.txt'\n",
    "\n",
    "          #textに変換\n",
    "            file = pdf_path\n",
    "            text=\"\"\n",
    "            sentences_list=[]\n",
    "            #print(file)\n",
    "            #print(out)\n",
    "            with open(out,'w') as out:\n",
    "                mat_eol = re.compile(\"\\n\".encode('utf-8'))\n",
    "                #print(fp)\n",
    "                sentences = []\n",
    "                sentence=[]\n",
    "                p = subprocess.run(('pdftotext', file, '-'), stdout = subprocess.PIPE, stderr = subprocess.PIPE)\n",
    "                temp = u\"\"\n",
    "                #print(p.stdout.decode('utf-8'))\n",
    "                for line in mat_eol.split(p.stdout):\n",
    "                    try:\n",
    "                        line = line.decode('utf-8')\n",
    "                    except:\n",
    "                        line = \"\"\n",
    "                    if line == \"\":\n",
    "                        if temp != \"\" and u\"。\" in temp:\n",
    "                            sentences = sentences + re.split(u\"。\", temp)\n",
    "                        temp = u\"\"\n",
    "                    else:\n",
    "                        temp = temp+line\n",
    "\n",
    "                if temp != \"\" and u\"。\" in temp:\n",
    "                    sentences = sentences + re.split(u\"。\", temp)\n",
    "\n",
    "                for line in sentences :\n",
    "                    text=line\n",
    "\n",
    "                    #if len(text) <= 300 and len(text) >+ 3:\n",
    "                    #if len(text) > 3:\n",
    "                    sentences_list.append(normalize(text + u\"。\"))\n",
    "                        #print(text)\n",
    "\n",
    "                for sentence in sentences_list:\n",
    "                    #print(sentence)\n",
    "                    out.write(sentence+\"\\n\")"
   ]
  },
  {
   "cell_type": "markdown",
   "id": "446bd9d2",
   "metadata": {},
   "source": [
    "## memo"
   ]
  },
  {
   "cell_type": "code",
   "execution_count": 4,
   "id": "cbf02f44",
   "metadata": {},
   "outputs": [],
   "source": [
    "for i in range(0,1):\n",
    "    with open(\"out.txt\",'w') as out:\n",
    "        mat_eol = re.compile(\"\\n\".encode('utf-8'))\n",
    "        #print(fp)\n",
    "        sentences = []\n",
    "        sentence=[]\n",
    "        p = subprocess.run(('pdftotext', \"rakuten.pdf\", '-'), stdout = subprocess.PIPE, stderr = subprocess.PIPE)\n",
    "        temp = u\"\"\n",
    "        for line in mat_eol.split(p.stdout):\n",
    "            try:\n",
    "                line = line.decode('utf-8')\n",
    "            except:\n",
    "                line = \"\"\n",
    "            if line == \"\":\n",
    "                if temp != \"\" and u\"。\" in temp:\n",
    "                    sentences = sentences + re.split(u\"。\", temp)\n",
    "                temp = u\"\"\n",
    "            else:\n",
    "                temp = temp+line\n",
    "\n",
    "        if temp != \"\" and u\"。\" in temp:\n",
    "            sentences = sentences + re.split(u\"。\", temp)\n",
    "\n",
    "        sentences = [normalize(line + u\"。\")\n",
    "                    for line in sentences if len(line) <= 300 and len(line) >+ 3]\n",
    "        for sentence in sentences:\n",
    "            out.write(sentence+\"\\n\")"
   ]
  },
  {
   "cell_type": "raw",
   "id": "d5bb93ce",
   "metadata": {},
   "source": [
    "for i in range(0,2):\n",
    "    ! python extract_text.py rakuten.pdf >test.txt\n",
    "    print(i)"
   ]
  },
  {
   "cell_type": "code",
   "execution_count": null,
   "id": "3ddc25a7",
   "metadata": {},
   "outputs": [],
   "source": []
  }
 ],
 "metadata": {
  "kernelspec": {
   "display_name": "Python 3 (ipykernel)",
   "language": "python",
   "name": "python3"
  },
  "language_info": {
   "codemirror_mode": {
    "name": "ipython",
    "version": 3
   },
   "file_extension": ".py",
   "mimetype": "text/x-python",
   "name": "python",
   "nbconvert_exporter": "python",
   "pygments_lexer": "ipython3",
   "version": "3.8.8"
  },
  "toc": {
   "base_numbering": 1,
   "nav_menu": {},
   "number_sections": true,
   "sideBar": true,
   "skip_h1_title": false,
   "title_cell": "Table of Contents",
   "title_sidebar": "Contents",
   "toc_cell": false,
   "toc_position": {},
   "toc_section_display": true,
   "toc_window_display": false
  }
 },
 "nbformat": 4,
 "nbformat_minor": 5
}
