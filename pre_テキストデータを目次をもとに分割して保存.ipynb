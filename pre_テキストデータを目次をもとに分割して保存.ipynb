{
 "cells": [
  {
   "cell_type": "code",
   "execution_count": 1,
   "id": "e382eec8",
   "metadata": {},
   "outputs": [],
   "source": [
    "import subprocess\n",
    "import zenhan\n",
    "import os\n",
    "import sys\n",
    "import re\n",
    "import unicodedata\n",
    "import argparse\n",
    "import pandas as pd\n",
    "import pickle\n",
    "import json\n",
    "import tqdm"
   ]
  },
  {
   "cell_type": "code",
   "execution_count": 2,
   "id": "bb3a6f34",
   "metadata": {},
   "outputs": [],
   "source": [
    "def normalize(text):\n",
    "    #text = re.sub(r'\\d+', '0', text)\n",
    "    text = re.sub(r'（', '(', text)\n",
    "    text = re.sub(r'）', ')', text)\n",
    "    text = re.sub('．','.',text)\n",
    "    text=re.sub('０','0',text)\n",
    "    text=re.sub('１','1',text)\n",
    "    text=re.sub('２','2',text)\n",
    "    text=re.sub('３','3',text)\n",
    "    text=re.sub('４','4',text)\n",
    "    text=re.sub('５','5',text)\n",
    "    text=re.sub('６','6',text)\n",
    "    text=re.sub('７','7',text)\n",
    "    text=re.sub('８','8',text)\n",
    "    text=re.sub('９','9',text)\n",
    "    return(text)"
   ]
  },
  {
   "cell_type": "code",
   "execution_count": 3,
   "id": "915f28e8",
   "metadata": {},
   "outputs": [],
   "source": [
    "#企業リストを取得\n",
    "company_list = pd.read_csv(\"../data/new2/df_achieve/company_list.csv\",index_col=0)\n",
    "company_list=company_list.drop(14350)"
   ]
  },
  {
   "cell_type": "code",
   "execution_count": null,
   "id": "994e7848",
   "metadata": {},
   "outputs": [],
   "source": []
  },
  {
   "cell_type": "code",
   "execution_count": 4,
   "id": "fc235f16",
   "metadata": {},
   "outputs": [
    {
     "name": "stderr",
     "output_type": "stream",
     "text": [
      "100%|██████████████████████████████████████| 2512/2512 [00:21<00:00, 116.53it/s]\n"
     ]
    }
   ],
   "source": [
    "non_list=[]\n",
    "for company in tqdm.tqdm(company_list.index):\n",
    "    df_path = '../data/new2/df_achieve/this/{}.csv'.format(company)\n",
    "    #dfを呼び出し\n",
    "    df = pd.read_csv(df_path,index_col=0)\n",
    "    dic = '../data/text_data_ver2/text_data_sep/'+str(company)\n",
    "    #フォルダを作成する\n",
    "    try:\n",
    "        os.makedirs(dic)\n",
    "    except FileExistsError:\n",
    "        pass\n",
    "\n",
    "    for code in df[\"pdf_code\"]:\n",
    "        mokuzi_path = '../data/text_data_ver2/text_mokuzi_data_pre/'+str(company)+'/'+str(code)+'.pkl'\n",
    "        text_path =  '../data/text_data_ver2/text_data/'+str(company)+'/'+str(code)+'.txt'\n",
    "\n",
    "        out_path = '../data/text_data_ver2/text_data_sep/'+str(company)+'/'+str(code)+'.json'\n",
    "        with open(mokuzi_path, 'rb') as p:\n",
    "            mokuzi_list=pickle.load(p)\n",
    "        with open(text_path,'r') as t:\n",
    "            text = t.read()\n",
    "        \n",
    "        text_list=[]\n",
    "        text_dic={\"text\":[]}\n",
    "        #kari_dic={}\n",
    "        kari_text=text\n",
    "        true_mokuzi=[]\n",
    "        false_mokuzi=[]\n",
    "        try:\n",
    "            for i,mokuzi in enumerate(mokuzi_list):\n",
    "\n",
    "                if len(mokuzi)>3:\n",
    "                    kari=mokuzi[0:3]\n",
    "                    if \"（\" in kari or \"(\" in kari or \"（\" in kari or kari[0].isdigit() or kari[1].isdigit() or kari[2].isdigit():\n",
    "\n",
    "                        ind=kari_text.find(mokuzi)\n",
    "                        if ind!=-1:\n",
    "                            #目次があったものは変数に入れておく\n",
    "                            true_mokuzi.append(mokuzi)\n",
    "                            kari_dic={}\n",
    "                            if text_dic[\"text\"]!=[]:\n",
    "                                kari_dic[\"title\"]=true_mokuzi[-2]\n",
    "                                kari_dic[\"text\"]=kari_text[len(true_mokuzi[-2]):ind]\n",
    "                                text_dic[\"text\"].append(kari_dic)\n",
    "                                kari_text=kari_text[ind:]\n",
    "\n",
    "                                #mokuzi_listの最後に来た時の処理\n",
    "                                if mokuzi==mokuzi_list[-1]:\n",
    "                                    kari_dic={}\n",
    "                                    kari_dic[\"title\"]=true_mokuzi[-1]\n",
    "                                    kari_dic[\"text\"]=kari_text[len(true_mokuzi[-1]):]\n",
    "                                    text_dic[\"text\"].append(kari_dic)\n",
    "                                    break\n",
    "\n",
    "                            #false_mokuziに目次があるとき（textのない目次）\n",
    "                                if false_mokuzi!=[]:\n",
    "                                    for non_mokuzi in false_mokuzi:\n",
    "                                        kari_dic={}\n",
    "                                        kari_dic[\"title\"]=non_mokuzi\n",
    "                                        kari_dic[\"text\"]=\"\"\n",
    "                                        text_dic[\"text\"].append(kari_dic)\n",
    "                                    false_mokuzi=[]\n",
    "\n",
    "                            elif i==0:\n",
    "                                kari_dic[\"title\"]=\"目次より前\"\n",
    "                                kari_dic[\"text\"]=text[:ind]\n",
    "                                text_dic[\"text\"].append(kari_dic)\n",
    "                                kari_text=text[ind:]\n",
    "\n",
    "                        else:\n",
    "                            false_mokuzi.append(mokuzi)\n",
    "                             #mokuzi_listの最後に来た時の処理\n",
    "                            if mokuzi==mokuzi_list[-1]:\n",
    "                                kari_dic={}\n",
    "                                kari_dic[\"title\"]=true_mokuzi[-1]\n",
    "                                kari_dic[\"text\"]=kari_text[len(true_mokuzi[-1]):]\n",
    "                                text_dic[\"text\"].append(kari_dic)\n",
    "                                if false_mokuzi!=[]:\n",
    "                                    for non_mokuzi in false_mokuzi:\n",
    "                                        kari_dic={}\n",
    "                                        kari_dic[\"title\"]=non_mokuzi\n",
    "                                        kari_dic[\"text\"]=\"\"\n",
    "                                        text_dic[\"text\"].append(kari_dic)\n",
    "                                    false_mokuzi=[]\n",
    "            #保存\n",
    "            json_file = open(out_path, 'w')\n",
    "            json.dump(text_dic, json_file, ensure_ascii=False)\n",
    "            json_file.close()\n",
    "        except:\n",
    "            non_list.append(company)\n",
    "            "
   ]
  },
  {
   "cell_type": "code",
   "execution_count": 5,
   "id": "52b14337",
   "metadata": {},
   "outputs": [],
   "source": [
    "# text=normalize(text)\n",
    "# kari_mokuzi=[]\n",
    "# for mokuzi in mokuzi_list:\n",
    "#     kari_mokuzi.append(normalize(mokuzi))\n",
    "# mokuzi_list=kari_mokuzi"
   ]
  },
  {
   "cell_type": "code",
   "execution_count": 6,
   "id": "056ae608",
   "metadata": {},
   "outputs": [
    {
     "data": {
      "text/plain": [
       "322"
      ]
     },
     "execution_count": 6,
     "metadata": {},
     "output_type": "execute_result"
    }
   ],
   "source": [
    "len(non_list)"
   ]
  },
  {
   "cell_type": "markdown",
   "id": "2b6a439a",
   "metadata": {},
   "source": [
    "- 52080\n",
    "- 95080"
   ]
  },
  {
   "cell_type": "code",
   "execution_count": 7,
   "id": "42aa11c0",
   "metadata": {
    "scrolled": false
   },
   "outputs": [],
   "source": [
    "kari_list=sorted(list(set(non_list)))"
   ]
  },
  {
   "cell_type": "code",
   "execution_count": 8,
   "id": "1f859b36",
   "metadata": {},
   "outputs": [],
   "source": [
    "#kari_list=[52080,76150,95080]\n",
    "#kari_list=[76150,95080]"
   ]
  },
  {
   "cell_type": "code",
   "execution_count": 9,
   "id": "a787a5cb",
   "metadata": {},
   "outputs": [
    {
     "name": "stderr",
     "output_type": "stream",
     "text": [
      "100%|███████████████████████████████████████████| 48/48 [00:00<00:00, 78.78it/s]\n"
     ]
    }
   ],
   "source": [
    "#エラーの処理\n",
    "non_list=[]\n",
    "for company in tqdm.tqdm(kari_list):\n",
    "    \n",
    "    df_path = '../data/new2/df_achieve/this/{}.csv'.format(company)\n",
    "    #dfを呼び出し\n",
    "    df = pd.read_csv(df_path,index_col=0)\n",
    "    dic = '../data/text_data_ver2/text_data_sep/'+str(company)\n",
    "    #フォルダを作成する\n",
    "    try:\n",
    "        os.makedirs(dic)\n",
    "    except FileExistsError:\n",
    "        pass\n",
    "    \n",
    "    for code in df['pdf_code']:\n",
    "        try:\n",
    "            mokuzi_path = '../data/text_data_ver2/text_mokuzi_data_pre/'+str(company)+'/'+str(code)+'.pkl'\n",
    "            text_path =  '../data/text_data_ver2/text_data/'+str(company)+'/'+str(code)+'.txt'\n",
    "\n",
    "            out_path = '../data/text_data_ver2/text_data_sep/'+str(company)+'/'+str(code)+'.json'\n",
    "            with open(mokuzi_path, 'rb') as p:\n",
    "                mokuzi_list=pickle.load(p)\n",
    "            with open(text_path,'r') as t:\n",
    "                text = t.read()\n",
    "\n",
    "            text=normalize(text)\n",
    "            text_list=[]\n",
    "            text_dic={\"text\":[]}\n",
    "            #kari_dic={}\n",
    "            kari_text=text\n",
    "            true_mokuzi=[]\n",
    "            false_mokuzi=[]\n",
    "            for i,mokuzi in enumerate(mokuzi_list):\n",
    "                mokuzi = mokuzi.replace('\\n','')\n",
    "                mokuzi=normalize(mokuzi)\n",
    "                mokuzi=mokuzi.replace('..','')\n",
    "                if mokuzi[-1]==\".\":\n",
    "                    mokuzi=mokuzi[:-1]\n",
    "                if len(mokuzi)>3:\n",
    "                    kari=mokuzi[0:3]\n",
    "                    if \"（\" in kari or \"(\" in kari or \"（\" in kari or kari[0].isdigit() or kari[1].isdigit() or kari[2].isdigit():\n",
    "\n",
    "                        ind=kari_text.find(mokuzi)\n",
    "                        if ind!=-1:\n",
    "                            #目次があったものは変数に入れておく\n",
    "                            true_mokuzi.append(mokuzi)\n",
    "                            kari_dic={}\n",
    "                            if text_dic[\"text\"]!=[]:\n",
    "                                kari_dic[\"title\"]=true_mokuzi[-2]\n",
    "                                kari_dic[\"text\"]=kari_text[len(true_mokuzi[-2]):ind]\n",
    "                                text_dic[\"text\"].append(kari_dic)\n",
    "                                kari_text=kari_text[ind:]\n",
    "\n",
    "                                #mokuzi_listの最後に来た時の処理\n",
    "                                if mokuzi==mokuzi_list[-1]:\n",
    "                                    kari_dic={}\n",
    "                                    kari_dic[\"title\"]=true_mokuzi[-1]\n",
    "                                    kari_dic[\"text\"]=kari_text[len(true_mokuzi[-1]):]\n",
    "                                    text_dic[\"text\"].append(kari_dic)\n",
    "                                    break\n",
    "\n",
    "                            #false_mokuziに目次があるとき（textのない目次）\n",
    "                                if false_mokuzi!=[]:\n",
    "                                    for non_mokuzi in false_mokuzi:\n",
    "                                        kari_dic={}\n",
    "                                        kari_dic[\"title\"]=non_mokuzi\n",
    "                                        kari_dic[\"text\"]=\"\"\n",
    "                                        text_dic[\"text\"].append(kari_dic)\n",
    "                                    false_mokuzi=[]\n",
    "\n",
    "                            elif i==0:\n",
    "                                kari_dic[\"title\"]=\"目次より前\"\n",
    "                                kari_dic[\"text\"]=text[:ind]\n",
    "                                text_dic[\"text\"].append(kari_dic)\n",
    "                                kari_text=text[ind:]\n",
    "\n",
    "                        else:\n",
    "                            false_mokuzi.append(mokuzi)\n",
    "                             #mokuzi_listの最後に来た時の処理\n",
    "                            if mokuzi==mokuzi_list[-1]:\n",
    "                                kari_dic={}\n",
    "                                kari_dic[\"title\"]=true_mokuzi[-1]\n",
    "                                kari_dic[\"text\"]=kari_text[len(true_mokuzi[-1]):]\n",
    "                                text_dic[\"text\"].append(kari_dic)\n",
    "                                if false_mokuzi!=[]:\n",
    "                                    for non_mokuzi in false_mokuzi:\n",
    "                                        kari_dic={}\n",
    "                                        kari_dic[\"title\"]=non_mokuzi\n",
    "                                        kari_dic[\"text\"]=\"\"\n",
    "                                        text_dic[\"text\"].append(kari_dic)\n",
    "                                    false_mokuzi=[]\n",
    "            \n",
    "             #保存\n",
    "            json_file = open(out_path, 'w')\n",
    "            json.dump(text_dic, json_file, ensure_ascii=False)\n",
    "                                    \n",
    "        except:\n",
    "            non_list.append(company)\n",
    "            break"
   ]
  },
  {
   "cell_type": "code",
   "execution_count": 10,
   "id": "41cabcd0",
   "metadata": {},
   "outputs": [
    {
     "data": {
      "text/plain": [
       "[36760, 45340, 52080, 63090, 67890, 95080, 97430]"
      ]
     },
     "execution_count": 10,
     "metadata": {},
     "output_type": "execute_result"
    }
   ],
   "source": [
    "non_list"
   ]
  },
  {
   "cell_type": "code",
   "execution_count": 11,
   "id": "302d5293",
   "metadata": {
    "scrolled": true
   },
   "outputs": [
    {
     "name": "stderr",
     "output_type": "stream",
     "text": [
      "100%|██████████████████████████████████████████| 48/48 [00:00<00:00, 113.70it/s]\n"
     ]
    }
   ],
   "source": [
    "#エラーして残った目次を修正して回したもの\n",
    "for company in tqdm.tqdm(kari_list):\n",
    "    \n",
    "    df_path = '../data/new2/df_achieve/this/{}.csv'.format(company)\n",
    "    #dfを呼び出し\n",
    "    df = pd.read_csv(df_path,index_col=0)\n",
    "    dic = '../data/text_data_ver2/text_data_sep/'+str(company)\n",
    "    #フォルダを作成する\n",
    "    try:\n",
    "        os.makedirs(dic)\n",
    "    except FileExistsError:\n",
    "        pass\n",
    "    \n",
    "    for code in df['pdf_code']:\n",
    "\n",
    "        mokuzi_path = '../data/text_data_ver2/text_mokuzi_data_pre/'+str(company)+'/'+str(code)+'.pkl'\n",
    "        text_path =  '../data/text_data_ver2/text_data/'+str(company)+'/'+str(code)+'.txt'\n",
    "\n",
    "        out_path = '../data/text_data_ver2/text_data_sep/'+str(company)+'/'+str(code)+'.json'\n",
    "        with open(mokuzi_path, 'rb') as p:\n",
    "            mokuzi_list=pickle.load(p)\n",
    "        with open(text_path,'r') as t:\n",
    "            text = t.read()\n",
    "\n",
    "        text=normalize(text)\n",
    "        text_list=[]\n",
    "        text_dic={\"text\":[]}\n",
    "        #kari_dic={}\n",
    "        kari_text=text\n",
    "        true_mokuzi=[]\n",
    "        false_mokuzi=[]\n",
    "        kari_mokuzi=''\n",
    "        for mokuzi in mokuzi_list:\n",
    "            kari_mokuzi +=mokuzi +'\\n'\n",
    "    \n",
    "        new_mokuzi=[]\n",
    "        for mokuzi in kari_mokuzi.split('\\n'):\n",
    "            if len(mokuzi)>3:\n",
    "                new_mokuzi.append(mokuzi)\n",
    "\n",
    "        for i,mokuzi in enumerate(new_mokuzi):\n",
    "            if mokuzi[0].isdecimal():\n",
    "                if mokuzi[1]!=\"．\":\n",
    "                    if mokuzi[2]==\"（\":\n",
    "                        new_mokuzi[i]=mokuzi[2:]\n",
    "                    else:\n",
    "                         new_mokuzi[i]=mokuzi[1:]\n",
    "        mokuzi_list=new_mokuzi\n",
    "            \n",
    "        for i,mokuzi in enumerate(mokuzi_list):\n",
    "            mokuzi = mokuzi.replace('\\n','')\n",
    "            mokuzi=normalize(mokuzi)\n",
    "            mokuzi=mokuzi.replace('..','')\n",
    "            if mokuzi[-1]==\".\":\n",
    "                mokuzi=mokuzi[:-1]\n",
    "                \n",
    "            if len(mokuzi)>3:\n",
    "                kari=mokuzi[0:3]\n",
    "                if \"（\" in kari or \"(\" in kari or \"（\" in kari or kari[0].isdigit() or kari[1].isdigit() or kari[2].isdigit():\n",
    "\n",
    "                    ind=kari_text.find(mokuzi)\n",
    "                    if ind!=-1:\n",
    "                        #目次があったものは変数に入れておく\n",
    "                        true_mokuzi.append(mokuzi)\n",
    "                        kari_dic={}\n",
    "                        if text_dic[\"text\"]!=[]:\n",
    "                            kari_dic[\"title\"]=true_mokuzi[-2]\n",
    "                            kari_dic[\"text\"]=kari_text[len(true_mokuzi[-2]):ind]\n",
    "                            text_dic[\"text\"].append(kari_dic)\n",
    "                            kari_text=kari_text[ind:]\n",
    "\n",
    "                            #mokuzi_listの最後に来た時の処理\n",
    "                            if mokuzi==mokuzi_list[-1]:\n",
    "                                kari_dic={}\n",
    "                                kari_dic[\"title\"]=true_mokuzi[-1]\n",
    "                                kari_dic[\"text\"]=kari_text[len(true_mokuzi[-1]):]\n",
    "                                text_dic[\"text\"].append(kari_dic)\n",
    "                                break\n",
    "\n",
    "                        #false_mokuziに目次があるとき（textのない目次）\n",
    "                            if false_mokuzi!=[]:\n",
    "                                for non_mokuzi in false_mokuzi:\n",
    "                                    kari_dic={}\n",
    "                                    kari_dic[\"title\"]=non_mokuzi\n",
    "                                    kari_dic[\"text\"]=\"\"\n",
    "                                    text_dic[\"text\"].append(kari_dic)\n",
    "                                false_mokuzi=[]\n",
    "\n",
    "                        elif i==0:\n",
    "                            kari_dic[\"title\"]=\"目次より前\"\n",
    "                            kari_dic[\"text\"]=text[:ind]\n",
    "                            text_dic[\"text\"].append(kari_dic)\n",
    "                            kari_text=text[ind:]\n",
    "\n",
    "                    else:\n",
    "                        false_mokuzi.append(mokuzi)\n",
    "                         #mokuzi_listの最後に来た時の処理\n",
    "                        if mokuzi==mokuzi_list[-1]:\n",
    "                            kari_dic={}\n",
    "                            kari_dic[\"title\"]=true_mokuzi[-1]\n",
    "                            kari_dic[\"text\"]=kari_text[len(true_mokuzi[-1]):]\n",
    "                            text_dic[\"text\"].append(kari_dic)\n",
    "                            if false_mokuzi!=[]:\n",
    "                                for non_mokuzi in false_mokuzi:\n",
    "                                    kari_dic={}\n",
    "                                    kari_dic[\"title\"]=non_mokuzi\n",
    "                                    kari_dic[\"text\"]=\"\"\n",
    "                                    text_dic[\"text\"].append(kari_dic)\n",
    "                                false_mokuzi=[]\n",
    "\n",
    "         #保存\n",
    "        json_file = open(out_path, 'w')\n",
    "        json.dump(text_dic, json_file, ensure_ascii=False)\n",
    "        json_file.close()"
   ]
  },
  {
   "cell_type": "code",
   "execution_count": 227,
   "id": "cee8f3de",
   "metadata": {},
   "outputs": [
    {
     "data": {
      "text/plain": [
       "['2．会計基準の選択に関する基本的な考え方',\n",
       " '3．連結財務諸表及び主な注記',\n",
       " '(1)連結貸借対照表',\n",
       " '連結損益計算書',\n",
       " '(追加情報)',\n",
       " '(セグメント情報等)',\n",
       " '(１株当たり情報)',\n",
       " '(重要な後発事象)',\n",
       " '4．その他']"
      ]
     },
     "execution_count": 227,
     "metadata": {},
     "output_type": "execute_result"
    }
   ],
   "source": [
    "mokuzi_list"
   ]
  },
  {
   "cell_type": "code",
   "execution_count": 209,
   "id": "c3940b43",
   "metadata": {},
   "outputs": [],
   "source": [
    "kari_mokuzi=''\n",
    "for mokuzi in mokuzi_list:\n",
    "    kari_mokuzi +=mokuzi +'\\n'\n",
    "        \n",
    "new_mokuzi=[]\n",
    "for mokuzi in kari_mokuzi.split('\\n'):\n",
    "    if len(mokuzi)>3:\n",
    "        new_mokuzi.append(mokuzi)\n",
    "\n",
    "for i,mokuzi in enumerate(new_mokuzi):\n",
    "    if mokuzi[0].isdecimal():\n",
    "        if mokuzi[1]!=\"．\":\n",
    "            if mokuzi[2]==\"（\":\n",
    "                new_mokuzi[i]=mokuzi[2:]\n",
    "            else:\n",
    "                 new_mokuzi[i]=mokuzi[1:]\n",
    "new_mokuzi=mokuzi_list"
   ]
  },
  {
   "cell_type": "code",
   "execution_count": 222,
   "id": "420f0387",
   "metadata": {},
   "outputs": [
    {
     "data": {
      "text/plain": [
       "['\\n1．経営成績等の概況',\n",
       " '（1）当期の経営成績の概況',\n",
       " '2（2）当期の財政状態の概況',\n",
       " '（3）当期のキャッシュ・フローの概況',\n",
       " '5（4）今後の見通し',\n",
       " '2．会計基準の選択に関する基本的な考え方',\n",
       " '63．連結財務諸表及び主な注記',\n",
       " '（1）連結貸借対照表',\n",
       " '7（2）連結損益計算書及び連結包括利益計算書',\n",
       " '連結損益計算書',\n",
       " '9連結包括利益計算書',\n",
       " '（3）連結株主資本等変動計算書',\n",
       " '11（4）連結キャッシュ・フロー計算書\\n（5）連結財務諸表に関する注記事項',\n",
       " '',\n",
       " '15（継続企業の前提に関する注記）',\n",
       " '（セグメント情報等）',\n",
       " '15（1株当たり情報）',\n",
       " '（重要な後発事象）']"
      ]
     },
     "execution_count": 222,
     "metadata": {},
     "output_type": "execute_result"
    }
   ],
   "source": [
    "new_mokuzi"
   ]
  },
  {
   "cell_type": "code",
   "execution_count": 170,
   "id": "7d55a3a6",
   "metadata": {},
   "outputs": [
    {
     "data": {
      "text/plain": [
       "['\\n1.当四半期決算に関する定性的情報',\n",
       " '(1)経営成績に関する説明',\n",
       " '(2)財政状態に関する説明',\n",
       " '(3)連結業績予想などの将来予測情報に関する説明',\n",
       " '2.四半期連結財務諸表及び主な注記',\n",
       " '(1)四半期連結貸借対照表',\n",
       " '(2)四半期連結損益計算書及び四半期連結包括利益計算書',\n",
       " '四半期連結損益計算書\\n第１四半期連結累計期間',\n",
       " '四半期連結包括利益計算書\\n第１四半期連結累計期間',\n",
       " '(3)継続企業の前提に関する注記',\n",
       " '(4)株主資本の金額に著しい変動があった場合の注記',\n",
       " '(5)四半期連結財務諸表の作成に特有の会計処理の適用',\n",
       " '(6)セグメント情報等']"
      ]
     },
     "execution_count": 170,
     "metadata": {},
     "output_type": "execute_result"
    }
   ],
   "source": [
    "mokuzi_list"
   ]
  },
  {
   "cell_type": "code",
   "execution_count": 123,
   "id": "b50ba353",
   "metadata": {},
   "outputs": [
    {
     "data": {
      "text/plain": [
       "False"
      ]
     },
     "execution_count": 123,
     "metadata": {},
     "output_type": "execute_result"
    }
   ],
   "source": [
    "normalize(kari)==false_mokuzi[0]"
   ]
  },
  {
   "cell_type": "code",
   "execution_count": 50,
   "id": "e7140aa4",
   "metadata": {},
   "outputs": [
    {
     "data": {
      "text/plain": [
       "'１.経営成績等の概況'"
      ]
     },
     "execution_count": 50,
     "metadata": {},
     "output_type": "execute_result"
    }
   ],
   "source": [
    "i=1\n",
    "false_mokuzi[0]"
   ]
  },
  {
   "cell_type": "code",
   "execution_count": 126,
   "id": "6562d5e5",
   "metadata": {},
   "outputs": [
    {
     "data": {
      "text/plain": [
       "False"
      ]
     },
     "execution_count": 126,
     "metadata": {},
     "output_type": "execute_result"
    }
   ],
   "source": [
    "false_mokuzi[0][0]==kari[0]"
   ]
  },
  {
   "cell_type": "code",
   "execution_count": 125,
   "id": "37c86aa5",
   "metadata": {},
   "outputs": [
    {
     "data": {
      "text/plain": [
       "'1'"
      ]
     },
     "execution_count": 125,
     "metadata": {},
     "output_type": "execute_result"
    }
   ],
   "source": [
    "kari[0]"
   ]
  },
  {
   "cell_type": "code",
   "execution_count": null,
   "id": "3cc2c592",
   "metadata": {},
   "outputs": [],
   "source": []
  }
 ],
 "metadata": {
  "kernelspec": {
   "display_name": "Python 3 (ipykernel)",
   "language": "python",
   "name": "python3"
  },
  "language_info": {
   "codemirror_mode": {
    "name": "ipython",
    "version": 3
   },
   "file_extension": ".py",
   "mimetype": "text/x-python",
   "name": "python",
   "nbconvert_exporter": "python",
   "pygments_lexer": "ipython3",
   "version": "3.8.8"
  }
 },
 "nbformat": 4,
 "nbformat_minor": 5
}
